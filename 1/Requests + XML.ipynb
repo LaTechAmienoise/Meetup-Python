{
 "cells": [
  {
   "cell_type": "markdown",
   "metadata": {},
   "source": [
    "# Objectifs\n",
    "\n",
    "Obtenir le fichier RSS (Rich Site Summary) de l'agenda de LaTechAmienoise pour obtenir les derniers événements."
   ]
  },
  {
   "cell_type": "markdown",
   "metadata": {},
   "source": [
    "## Obtention du fichier XML\n",
    "\n",
    "On utilise la bibliothèque [requests](http://docs.python-requests.org/en/master/) pour obtenir le fichier XML"
   ]
  },
  {
   "cell_type": "code",
   "execution_count": 31,
   "metadata": {},
   "outputs": [
    {
     "name": "stdout",
     "output_type": "stream",
     "text": [
      "200\n"
     ]
    }
   ],
   "source": [
    "import requests\n",
    "\n",
    "r = requests.get('http://www.latechamienoise.com/agenda/do/rss.xml')\n",
    "# Ma requête a t'elle réussie ?\n",
    "print(r.status_code)"
   ]
  },
  {
   "cell_type": "markdown",
   "metadata": {},
   "source": [
    "## Affichons le contenu de la réponse"
   ]
  },
  {
   "cell_type": "code",
   "execution_count": 33,
   "metadata": {},
   "outputs": [
    {
     "data": {
      "text/plain": [
       "'<?xml version=\"1.0\"?>\\n<rss version=\"2.0\" xmlns:ev=\"http://purl.org/rss/2.0/modules/event/\">\\n   <channel>\\n        <title><![CDATA[La Tech Amiénoise : Agenda #LTA]]></title>\\n        <link>http://www.latechamienoise.com/agenda</link>\\n        <description><![CDATA[]]></description>\\n\\n                <item>\\n            <title><![CDATA[AFTERWORK : Tech\\' a drink - Avril]]></title>\\n            <link>http://www.latechamienoise.com/agenda/reseau-rencontres/sorties/afterwork-tech-a-drink-avril.html</link>\\n            <description><![CDATA[<p><img src=\"http://www.latechamienoise.com/medias/images/afterwork-lta-1.jpg?fx=c_400_400\" style=\"float:left;margin-right:10px;\" align=\"left\" hspace=\"10\" border=\"0\" alt=\"Afterwork lta 1\" />Les Tech&#39; a Drink sont des afterworks qui permettent aux adh&eacute;rents de se retrouver apr&egrave;s le travail autour d&#39;un verre et de disc ...</p>]]></description>\\n            <pubDate>Wed 7 Mar 2018 14:33:27 GMT</pubDate>\\n            <ev:startdate>Tue 10 Apr 2018 18:30:00 GMT</ev:startdate>\\n            <ev:enddate>Tue 10 Apr 2018 21:00:00 GMT</ev:enddate>\\n        </item>        \\n                <item>\\n            <title><![CDATA[CONFÉRENCE : Les clés du RGPD]]></title>\\n            <link>http://www.latechamienoise.com/agenda/evenements/conferences/generique/conference-les-cles-du-rgpd.html</link>\\n            <description><![CDATA[<p>SPIE ICS propose de vous donner les cl&eacute;s pour comprendre les changements &agrave; venir et les conseils pour bien vous pr&eacute;parer au RGPD lors ...</p>]]></description>\\n            <pubDate>Thu 22 Mar 2018 16:22:57 GMT</pubDate>\\n            <ev:startdate>Thu 12 Apr 2018 08:30:00 GMT</ev:startdate>\\n            <ev:enddate>Thu 12 Apr 2018 11:00:00 GMT</ev:enddate>\\n        </item>        \\n                <item>\\n            <title><![CDATA[MEETUP : Python #1]]></title>\\n            <link>http://www.latechamienoise.com/agenda/reseau-rencontres/technique/meetup-python-1.html</link>\\n            <description><![CDATA[<p>Pour cette premi&egrave;re &eacute;dition, nous vous proposons un format avec deux pr&eacute;sentations (20 minutes + 10 minutes de questions), puis un ...</p>]]></description>\\n            <pubDate>Mon 5 Mar 2018 15:37:09 GMT</pubDate>\\n            <ev:startdate>Thu 12 Apr 2018 18:30:00 GMT</ev:startdate>\\n            <ev:enddate>Thu 12 Apr 2018 20:00:00 GMT</ev:enddate>\\n        </item>        \\n                <item>\\n            <title><![CDATA[15\\' POUR COMPRENDRE : GOOGLE my business]]></title>\\n            <link>http://www.latechamienoise.com/agenda/evenements/conferences/15-pour-comprendre-google-my-business.html</link>\\n            <description><![CDATA[<p><img src=\"http://www.latechamienoise.com/medias/images/google-my-business.jpg?fx=c_400_400\" style=\"float:left;margin-right:10px;\" align=\"left\" hspace=\"10\" border=\"0\" alt=\"Google my business\" />Google My Business, un puissant outil au service de votre e-r&eacute;putation... ou celle de vos concurents !\\r\\n\\r\\n&nbsp;En&nbsp;15&quot; je vous propose ...</p>]]></description>\\n            <pubDate>Tue 27 Mar 2018 19:25:03 GMT</pubDate>\\n            <ev:startdate>Tue 17 Apr 2018 12:15:00 GMT</ev:startdate>\\n            <ev:enddate>Tue 17 Apr 2018 14:00:00 GMT</ev:enddate>\\n        </item>        \\n                <item>\\n            <title><![CDATA[DEJEUNER : Déj\\' Networking - Avril]]></title>\\n            <link>http://www.latechamienoise.com/agenda/reseau-rencontres/vie-de-l-asso/dejeuner-dej-networking-avril.html</link>\\n            <description><![CDATA[<p><img src=\"http://www.latechamienoise.com/medias/images/dejnetworking-octobre-1.jpg?fx=c_400_400\" style=\"float:left;margin-right:10px;\" align=\"left\" hspace=\"10\" border=\"0\" alt=\"Dejnetworking octobre 1\" />Chaque mois, #LTA organise un D&eacute;j&#39; Networking permettant aux professionnels du Num&eacute;rique de se retrouver pour partager un repas. Nous ...</p>]]></description>\\n            <pubDate>Mon 5 Mar 2018 15:06:48 GMT</pubDate>\\n            <ev:startdate>Thu 19 Apr 2018 12:15:00 GMT</ev:startdate>\\n            <ev:enddate>Thu 19 Apr 2018 14:00:00 GMT</ev:enddate>\\n        </item>        \\n                <item>\\n            <title><![CDATA[VISITE : CEA Tech]]></title>\\n            <link>http://www.latechamienoise.com/agenda/reseau-rencontres/sorties/visite-cea-tech.html</link>\\n            <description><![CDATA[<p><img src=\"http://www.latechamienoise.com/medias/images/capture-d-e-cran-2018-03-07-a-14.19.26.png?fx=c_400_400\" style=\"float:left;margin-right:10px;\" align=\"left\" hspace=\"10\" border=\"0\" alt=\"Capture d e cran 2018 03 07 a 14 19 26\" />CEA Tech cr&eacute;e de l&rsquo;innovation technologique pour am&eacute;liorer la comp&eacute;titivit&eacute; des entreprises fran&ccedil;aises par la ...</p>]]></description>\\n            <pubDate>Wed 7 Mar 2018 14:27:41 GMT</pubDate>\\n            <ev:startdate>Mon 23 Apr 2018 10:00:00 GMT</ev:startdate>\\n            <ev:enddate>Mon 23 Apr 2018 13:00:00 GMT</ev:enddate>\\n        </item>        \\n                <item>\\n            <title><![CDATA[CONFÉRENCE : .NET Core]]></title>\\n            <link>http://www.latechamienoise.com/agenda/evenements/conferences/technique/conference-net-core.html</link>\\n            <description><![CDATA[<p><img src=\"http://www.latechamienoise.com/medias/images/illustration-confee-rence-netcore.png?fx=c_400_400\" style=\"float:left;margin-right:10px;\" align=\"left\" hspace=\"10\" border=\"0\" alt=\"Illustration confee rence netcore\" />En f&eacute;vrier 2002, Microsoft sortait la toute premi&egrave;re version de son framework, .NET. Un peu plus de quatorze ans plus tard, en juin 2016, ...</p>]]></description>\\n            <pubDate>Mon 5 Mar 2018 16:05:24 GMT</pubDate>\\n            <ev:startdate>Tue 24 Apr 2018 18:30:00 GMT</ev:startdate>\\n            <ev:enddate>Tue 24 Apr 2018 20:00:00 GMT</ev:enddate>\\n        </item>        \\n                <item>\\n            <title><![CDATA[Startup Weekend Amiens Peace : le retour]]></title>\\n            <link>http://www.latechamienoise.com/agenda/manifestations/startup-weekend-amiens-peace-le-retour.html</link>\\n            <description><![CDATA[<p><img src=\"http://www.latechamienoise.com/medias/images/capture-d-e-cran-2018-03-19-a-17.25.40.png?fx=c_400_400\" style=\"float:left;margin-right:10px;\" align=\"left\" hspace=\"10\" border=\"0\" alt=\"Capture d e cran 2018 03 19 a 17 25 40\" />Et non, le Startup Weekend n&#39;est pas fini&nbsp;! Apr&egrave;s 1 mois de r&eacute;cup&eacute;ration de vos looooongues nuits de travail, nous vous proposons ...</p>]]></description>\\n            <pubDate>Mon 19 Mar 2018 17:33:19 GMT</pubDate>\\n            <ev:startdate>Thu 26 Apr 2018 18:30:00 GMT</ev:startdate>\\n            <ev:enddate>Thu 26 Apr 2018 20:00:00 GMT</ev:enddate>\\n        </item>        \\n                <item>\\n            <title><![CDATA[MEETUP : Bitcoin #8]]></title>\\n            <link>http://www.latechamienoise.com/agenda/reseau-rencontres/technique/meetup-bitcoin-8.html</link>\\n            <description><![CDATA[<p><img src=\"http://www.latechamienoise.com/medias/images/opengraph.png?fx=c_400_400\" style=\"float:left;margin-right:10px;\" align=\"left\" hspace=\"10\" border=\"0\" alt=\"Opengraph\" />Comme chaque 1er jeudi du mois, nous vous proposons un meetup sur l&#39;actualit&eacute; des crypto-monnaies, en particulier le&nbsp;Bitcoin.&nbsp;\\r\\n\\r\\nInfos ...</p>]]></description>\\n            <pubDate>Thu 5 Apr 2018 17:02:11 GMT</pubDate>\\n            <ev:startdate>Thu 3 May 2018 18:30:00 GMT</ev:startdate>\\n            <ev:enddate>Thu 3 May 2018 20:00:00 GMT</ev:enddate>\\n        </item>        \\n                <item>\\n            <title><![CDATA[DEJEUNER : Déj\\' Networking - Mai]]></title>\\n            <link>http://www.latechamienoise.com/agenda/reseau-rencontres/vie-de-l-asso/dejeuner-dej-networking-mai.html</link>\\n            <description><![CDATA[<p><img src=\"http://www.latechamienoise.com/medias/images/img-3892.jpg?fx=c_400_400\" style=\"float:left;margin-right:10px;\" align=\"left\" hspace=\"10\" border=\"0\" alt=\"Img 3892\" />Chaque mois, #LTA organise un D&eacute;j&#39; Networking permettant aux professionnels du Num&eacute;rique de se retrouver pour partager un repas. Nous ...</p>]]></description>\\n            <pubDate>Thu 5 Apr 2018 17:30:34 GMT</pubDate>\\n            <ev:startdate>Thu 17 May 2018 12:15:00 GMT</ev:startdate>\\n            <ev:enddate>Thu 17 May 2018 14:00:00 GMT</ev:enddate>\\n        </item>        \\n                <item>\\n            <title><![CDATA[AFTERWORK : Tech\\' a drink]]></title>\\n            <link>http://www.latechamienoise.com/agenda/reseau-rencontres/sorties/afterwork-tech-a-drink.html</link>\\n            <description><![CDATA[<p><img src=\"http://www.latechamienoise.com/medias/images/afterwork-lta-1.jpg?fx=c_400_400\" style=\"float:left;margin-right:10px;\" align=\"left\" hspace=\"10\" border=\"0\" alt=\"Afterwork lta 1\" />Les Tech&#39; a Drink sont des afterworks qui permettent aux adh&eacute;rents de se retrouver apr&egrave;s le travail autour d&#39;un verre et de disc ...</p>]]></description>\\n            <pubDate>Thu 5 Apr 2018 17:46:10 GMT</pubDate>\\n            <ev:startdate>Tue 22 May 2018 18:30:00 GMT</ev:startdate>\\n            <ev:enddate>Tue 22 May 2018 21:00:00 GMT</ev:enddate>\\n        </item>        \\n                <item>\\n            <title><![CDATA[Workshop : Création de siteweb]]></title>\\n            <link>http://www.latechamienoise.com/agenda/evenements/workshops/workshop-creation-de-siteweb.html</link>\\n            <description><![CDATA[<p><img src=\"http://www.latechamienoise.com/medias/images/e-monsite.jpg?fx=c_400_400\" style=\"float:left;margin-right:10px;\" align=\"left\" hspace=\"10\" border=\"0\" alt=\"E monsite\" />Apprenez &agrave; cr&eacute;er votre site internet avec e-monsite !&nbsp;\\r\\n\\r\\n&nbsp;\\r\\n\\r\\nCet atelier vise &agrave; d&eacute;couvrir les principales fonc ...</p>]]></description>\\n            <pubDate>Thu 5 Apr 2018 17:40:19 GMT</pubDate>\\n            <ev:startdate>Wed 23 May 2018 18:30:00 GMT</ev:startdate>\\n            <ev:enddate>Wed 23 May 2018 20:00:00 GMT</ev:enddate>\\n        </item>        \\n                <item>\\n            <title><![CDATA[1 an avec React Native]]></title>\\n            <link>http://www.latechamienoise.com/agenda/evenements/conferences/1-an-avec-react-native.html</link>\\n            <description><![CDATA[<p><img src=\"http://www.latechamienoise.com/medias/images/reactnative.png?fx=c_400_400\" style=\"float:left;margin-right:10px;\" align=\"left\" hspace=\"10\" border=\"0\" alt=\"Reactnative\" />\\r\\n\\t\\r\\n\\t\\t\\r\\n\\t\\t\\t\\r\\n\\t\\t\\t\\r\\n\\t\\t\\tChez Iteracode, nous d&eacute;veloppons des solutions sur-mesure et la solution (parfois) est une application mobile.\\r\\n\\r\\n\\t\\t\\tIl nous ...</p>]]></description>\\n            <pubDate>Thu 5 Apr 2018 17:12:21 GMT</pubDate>\\n            <ev:startdate>Thu 24 May 2018 18:30:00 GMT</ev:startdate>\\n            <ev:enddate>Thu 24 May 2018 20:00:00 GMT</ev:enddate>\\n        </item>        \\n                <item>\\n            <title><![CDATA[15\\' POUR COMPRENDRE : Shapr]]></title>\\n            <link>http://www.latechamienoise.com/agenda/evenements/conferences/15-pour-comprendre-shapr.html</link>\\n            <description><![CDATA[<p><img src=\"http://www.latechamienoise.com/medias/images/fb4b93af4879e82fb8f63ddac767b.png?fx=c_400_400\" style=\"float:left;margin-right:10px;\" align=\"left\" hspace=\"10\" border=\"0\" alt=\"Fb4b93af4879e82fb8f63ddac767b\" />Infos &agrave; venir ... Un peu de patience ;)\\r\\n</p>]]></description>\\n            <pubDate>Thu 5 Apr 2018 17:07:29 GMT</pubDate>\\n            <ev:startdate>Tue 29 May 2018 12:15:00 GMT</ev:startdate>\\n            <ev:enddate>Tue 29 May 2018 14:00:00 GMT</ev:enddate>\\n        </item>        \\n            </channel>\\n</rss>\\t\\n'"
      ]
     },
     "execution_count": 33,
     "metadata": {},
     "output_type": "execute_result"
    }
   ],
   "source": [
    "r.text"
   ]
  },
  {
   "cell_type": "markdown",
   "metadata": {},
   "source": [
    "## Maintenant, on parse le résultat avec le parseur XML de python\n",
    "\n",
    "*Il existe d'autres parseurs, comme LXML, fournissant des API plus pythonesque !*\n",
    "\n"
   ]
  },
  {
   "cell_type": "code",
   "execution_count": 36,
   "metadata": {},
   "outputs": [],
   "source": [
    "import xml.etree.ElementTree as ET\n",
    "xml = ET.fromstring(r.text)"
   ]
  },
  {
   "cell_type": "markdown",
   "metadata": {},
   "source": [
    "# Affiche l'élement racine"
   ]
  },
  {
   "cell_type": "code",
   "execution_count": 52,
   "metadata": {},
   "outputs": [
    {
     "name": "stdout",
     "output_type": "stream",
     "text": [
      "<Element 'rss' at 0x7fce693688b8>\n"
     ]
    }
   ],
   "source": [
    "print(xml)"
   ]
  },
  {
   "cell_type": "markdown",
   "metadata": {},
   "source": [
    "## Parcourir les entrées \n",
    "\n",
    "La syntaxe `./channel/item` vient de [la norme W3C](https://www.w3.org/TR/xpath20/). "
   ]
  },
  {
   "cell_type": "code",
   "execution_count": 58,
   "metadata": {},
   "outputs": [
    {
     "name": "stdout",
     "output_type": "stream",
     "text": [
      "<class 'xml.etree.ElementTree.Element'>\n",
      "<class 'xml.etree.ElementTree.Element'>\n",
      "<class 'xml.etree.ElementTree.Element'>\n",
      "<class 'xml.etree.ElementTree.Element'>\n",
      "<class 'xml.etree.ElementTree.Element'>\n",
      "<class 'xml.etree.ElementTree.Element'>\n",
      "<class 'xml.etree.ElementTree.Element'>\n",
      "<class 'xml.etree.ElementTree.Element'>\n",
      "<class 'xml.etree.ElementTree.Element'>\n",
      "<class 'xml.etree.ElementTree.Element'>\n",
      "<class 'xml.etree.ElementTree.Element'>\n",
      "<class 'xml.etree.ElementTree.Element'>\n",
      "<class 'xml.etree.ElementTree.Element'>\n",
      "<class 'xml.etree.ElementTree.Element'>\n"
     ]
    }
   ],
   "source": [
    "for item in xml.findall('./channel/item'):\n",
    "    print(item.__class__)"
   ]
  },
  {
   "cell_type": "markdown",
   "metadata": {},
   "source": [
    "## Afficher le titre de chaque entrée"
   ]
  },
  {
   "cell_type": "code",
   "execution_count": 59,
   "metadata": {},
   "outputs": [
    {
     "name": "stdout",
     "output_type": "stream",
     "text": [
      "AFTERWORK : Tech' a drink - Avril\n",
      "CONFÉRENCE : Les clés du RGPD\n",
      "MEETUP : Python #1\n",
      "15' POUR COMPRENDRE : GOOGLE my business\n",
      "DEJEUNER : Déj' Networking - Avril\n",
      "VISITE : CEA Tech\n",
      "CONFÉRENCE : .NET Core\n",
      "Startup Weekend Amiens Peace : le retour\n",
      "MEETUP : Bitcoin #8\n",
      "DEJEUNER : Déj' Networking - Mai\n",
      "AFTERWORK : Tech' a drink\n",
      "Workshop : Création de siteweb\n",
      "1 an avec React Native\n",
      "15' POUR COMPRENDRE : Shapr\n"
     ]
    }
   ],
   "source": [
    "for item in xml.findall('./channel/item'):\n",
    "    print(item.find('title').text)"
   ]
  }
 ],
 "metadata": {
  "kernelspec": {
   "display_name": "Python 3",
   "language": "python",
   "name": "python3"
  },
  "language_info": {
   "codemirror_mode": {
    "name": "ipython",
    "version": 3
   },
   "file_extension": ".py",
   "mimetype": "text/x-python",
   "name": "python",
   "nbconvert_exporter": "python",
   "pygments_lexer": "ipython3",
   "version": "3.6.4"
  }
 },
 "nbformat": 4,
 "nbformat_minor": 2
}
