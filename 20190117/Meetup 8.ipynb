{
 "cells": [
  {
   "cell_type": "markdown",
   "metadata": {},
   "source": [
    "# Meetup #8\n",
    "\n",
    "## Agenda\n",
    "\n",
    "* Tour de table\n",
    "* Présentations courtes\n",
    "* Activités\n",
    "\n",
    "# Présentation courtes\n",
    "\n",
    "* Emilien fait une introduction aux traitements de données textuelles"
   ]
  },
  {
   "cell_type": "markdown",
   "metadata": {},
   "source": [
    "## Idées de sujets\n",
    "\n",
    "* \"Analytique web\" pour application web python (type Django) (7)\n",
    "* Scraping de site webs (9) *voir fichier scraping.ipynb*\n",
    "* Algorithme génétique (6)\n",
    "* Comprendre la structure d'un réseaux de neurones (2) \n",
    "* \"ETL\" en Python ? (5)\n",
    "* Reverse engineering d'un protocole réseau TCP (cf scapy) (7)"
   ]
  },
  {
   "cell_type": "markdown",
   "metadata": {},
   "source": []
  },
  {
   "cell_type": "code",
   "execution_count": null,
   "metadata": {},
   "outputs": [],
   "source": []
  }
 ],
 "metadata": {
  "kernelspec": {
   "display_name": "Python 3",
   "language": "python",
   "name": "python3"
  },
  "language_info": {
   "codemirror_mode": {
    "name": "ipython",
    "version": 3
   },
   "file_extension": ".py",
   "mimetype": "text/x-python",
   "name": "python",
   "nbconvert_exporter": "python",
   "pygments_lexer": "ipython3",
   "version": "3.7.1"
  }
 },
 "nbformat": 4,
 "nbformat_minor": 2
}
