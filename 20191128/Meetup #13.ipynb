{
 "cells": [
  {
   "cell_type": "markdown",
   "metadata": {},
   "source": [
    "# Meetup #13 – Jeudi 28 novembre 2019\n",
    "\n",
    "## Agenda\n",
    "\n",
    "- tour de table\n",
    "- présentations courtes\n",
    "- activités\n",
    "\n",
    "## Présentations\n",
    "\n",
    "- Christophe : cartographie avec Python et autres\n",
    "    - [QGIS](https://qgis.org/)\n",
    "    - https://towardsdatascience.com/mapping-geograph-data-in-python-610a963d2d7f\n",
    "    - https://chrishavlin.com/2016/11/16/shapefiles-tutorial/\n",
    "    - [Seaborn](http://seaborn.pydata.org/) : surcouche de haut niveau à `matplotlib`\n",
    "- Christophe : comment je fais pour distribuer des applications\n",
    "   - création d'applications Windows (.exe) avec [pyinstaller](http://www.pyinstaller.org/)\n",
    "   - autres outils du même genre : [cx_Freeze](https://cx-freeze.readthedocs.io/en/latest/), [py2exe](http://www.py2exe.org/)...\n",
    "- Bruno : retour d'expérience sur [poetry](https://poetry.eustace.io/)\n",
    "\n",
    "## Activités\n",
    "\n",
    "- par où commencer ?\n",
    "- les exceptions\n",
    "- ~~les imports~~\n"
   ]
  },
  {
   "cell_type": "markdown",
   "metadata": {},
   "source": [
    "### Par où commencer ?\n",
    "\n",
    "Il y a beaucoup de ressources, y compris gratuites, sur le web. C'est un sujet que l'on avait déja abordé dans des précédents meetups : cf. notes du [meetup #6](https://github.com/LaTechAmienoise/Meetup-Python/blob/master/20181115/Meetup.ipynb) ou du [meetup #7](https://github.com/LaTechAmienoise/Meetup-Python/blob/master/20181211/Meetup%207.ipynb). "
   ]
  },
  {
   "cell_type": "markdown",
   "metadata": {},
   "source": [
    "### Les exceptions\n",
    "\n",
    "Les exceptions sont un mécanisme de gestion d'erreurs qui permet de séparer l'endroit où le problème est détecté (là où on lance l'exception) et l'endroit où on est en mesure de le traiter ou d'y réagir (là où on attrape l'exception). "
   ]
  },
  {
   "cell_type": "code",
   "execution_count": 1,
   "metadata": {},
   "outputs": [],
   "source": [
    "def calcule_un_truc(age):\n",
    "    if age < 0:\n",
    "        raise ValueError(\"l'âge ne doit pas être négatif\")\n",
    "    return age * 42"
   ]
  },
  {
   "cell_type": "markdown",
   "metadata": {},
   "source": [
    "Un bloc `try` avec une clause `except` permet d'intercepter (toutes) les erreurs."
   ]
  },
  {
   "cell_type": "code",
   "execution_count": 2,
   "metadata": {},
   "outputs": [
    {
     "name": "stdout",
     "output_type": "stream",
     "text": [
      "erreur\n"
     ]
    }
   ],
   "source": [
    "try:\n",
    "    calcule_un_truc(-1)\n",
    "except:\n",
    "    print(\"erreur\")"
   ]
  },
  {
   "cell_type": "markdown",
   "metadata": {},
   "source": [
    "Lorsque l'on s'intéresse à un type d'erreur particulier (ici `ValueError`), c'est mieux d'être précis. On peut mettre plusieurs clauses `except`, et terminer par une clause « attrape tout » :"
   ]
  },
  {
   "cell_type": "code",
   "execution_count": 3,
   "metadata": {},
   "outputs": [
    {
     "name": "stdout",
     "output_type": "stream",
     "text": [
      "oups, mauvaise valeur\n"
     ]
    }
   ],
   "source": [
    "try:\n",
    "    calcule_un_truc(-1)\n",
    "except ValueError:\n",
    "    print(\"oups, mauvaise valeur\")\n",
    "except:  # toutes les autres erreurs\n",
    "    print(\"erreur inattendue\")"
   ]
  },
  {
   "cell_type": "markdown",
   "metadata": {},
   "source": [
    "Si on veut examiner l'objet exception (qui peut porter des informations utiles), on peut utiliser le mot-clé `as` pour lui associer un nom :"
   ]
  },
  {
   "cell_type": "code",
   "execution_count": 4,
   "metadata": {},
   "outputs": [
    {
     "name": "stdout",
     "output_type": "stream",
     "text": [
      "erreur : l'âge ne doit pas être négatif\n"
     ]
    }
   ],
   "source": [
    "try:\n",
    "    calcule_un_truc(-1)\n",
    "except ValueError as exc:\n",
    "    print(f\"erreur : {exc}\")"
   ]
  },
  {
   "cell_type": "markdown",
   "metadata": {},
   "source": [
    "On peut définir ses propres classes d'exceptions :"
   ]
  },
  {
   "cell_type": "code",
   "execution_count": 5,
   "metadata": {},
   "outputs": [],
   "source": [
    "class AgeInvalide(ValueError):\n",
    "    pass\n",
    "\n",
    "class AnneeInvalide(ValueError):\n",
    "    pass\n",
    "\n",
    "def calcule_un_truc(age, annee):\n",
    "    if age < 0:\n",
    "        raise AgeInvalide\n",
    "    if annee > 2019:\n",
    "        raise AnneeInvalide\n",
    "    return age * 42"
   ]
  },
  {
   "cell_type": "code",
   "execution_count": 6,
   "metadata": {},
   "outputs": [
    {
     "name": "stdout",
     "output_type": "stream",
     "text": [
      "Âge invalide\n"
     ]
    }
   ],
   "source": [
    "try:\n",
    "    calcule_un_truc(-3, 2019)\n",
    "except AgeInvalide:\n",
    "    print(\"Âge invalide\")\n",
    "except AnneeInvalide:\n",
    "    print(\"Année invalide\")"
   ]
  },
  {
   "cell_type": "code",
   "execution_count": 7,
   "metadata": {},
   "outputs": [
    {
     "name": "stdout",
     "output_type": "stream",
     "text": [
      "Âge ou année invalide\n"
     ]
    }
   ],
   "source": [
    "try:\n",
    "    calcule_un_truc(-3, 2019)\n",
    "except ValueError:  # attrape aussi les classes dérivées\n",
    "    print(\"Âge ou année invalide\")"
   ]
  },
  {
   "cell_type": "markdown",
   "metadata": {},
   "source": [
    "La clause `finally` permet d'exécuter du code dans tous les cas, aussi bien quand le bloc `try` s'est exécuté avec succès que quand une exception a eu lieu."
   ]
  },
  {
   "cell_type": "code",
   "execution_count": 8,
   "metadata": {},
   "outputs": [
    {
     "name": "stdout",
     "output_type": "stream",
     "text": [
      "ok\n",
      "pour terminer\n"
     ]
    }
   ],
   "source": [
    "try:\n",
    "    print(\"ok\")\n",
    "finally:\n",
    "    print(\"pour terminer\")"
   ]
  },
  {
   "cell_type": "code",
   "execution_count": 9,
   "metadata": {},
   "outputs": [
    {
     "name": "stdout",
     "output_type": "stream",
     "text": [
      "erreur\n",
      "pour terminer\n"
     ]
    }
   ],
   "source": [
    "try:\n",
    "    1 / 0\n",
    "    print(\"ce code n'est jamais exécuté\")\n",
    "except ZeroDivisionError:\n",
    "    print(\"erreur\")\n",
    "finally:\n",
    "    print(\"pour terminer\")"
   ]
  },
  {
   "cell_type": "markdown",
   "metadata": {},
   "source": [
    "C'est utile pour mettre du code de « nettoyage » : fermer un fichier, libérer un verrou, etc."
   ]
  },
  {
   "cell_type": "code",
   "execution_count": 10,
   "metadata": {},
   "outputs": [],
   "source": [
    "f = open(\"fichier.txt\")\n",
    "try:\n",
    "    f.read()\n",
    "except:\n",
    "    f.close()"
   ]
  },
  {
   "cell_type": "markdown",
   "metadata": {},
   "source": [
    "Dans beaucoup de cas on gagnera cependant à utiliser un *context manager*, qui s'occupera de ça pour nous automatiquement :"
   ]
  },
  {
   "cell_type": "code",
   "execution_count": 11,
   "metadata": {},
   "outputs": [],
   "source": [
    "with open(\"fichier.txt\") as f:\n",
    "    f.read()"
   ]
  },
  {
   "cell_type": "markdown",
   "metadata": {},
   "source": [
    "Pour créer son propre *context manager*, on définit une classe qui implémente le protocole suivant :"
   ]
  },
  {
   "cell_type": "code",
   "execution_count": 12,
   "metadata": {},
   "outputs": [],
   "source": [
    "class MonTruc:\n",
    "    def __enter__(self):\n",
    "        print(\"avant\")\n",
    "    def __exit__(self, *exc):\n",
    "        print(\"après\")"
   ]
  },
  {
   "cell_type": "code",
   "execution_count": 13,
   "metadata": {},
   "outputs": [
    {
     "name": "stdout",
     "output_type": "stream",
     "text": [
      "avant\n",
      "OK\n",
      "après\n"
     ]
    }
   ],
   "source": [
    "with MonTruc():\n",
    "    print(\"OK\")"
   ]
  },
  {
   "cell_type": "code",
   "execution_count": 14,
   "metadata": {},
   "outputs": [
    {
     "name": "stdout",
     "output_type": "stream",
     "text": [
      "avant\n",
      "après\n"
     ]
    }
   ],
   "source": [
    "try:\n",
    "    with MonTruc():\n",
    "        1/0\n",
    "except:\n",
    "    pass"
   ]
  },
  {
   "cell_type": "markdown",
   "metadata": {},
   "source": [
    "On peut aussi l'écrire sous forme d'un générateur (une fonction avec un `yield`) grâce à un décorateur spécial fourni dans la bibliothèque standard :"
   ]
  },
  {
   "cell_type": "code",
   "execution_count": 15,
   "metadata": {},
   "outputs": [],
   "source": [
    "from contextlib import contextmanager\n",
    "\n",
    "@contextmanager\n",
    "def montruc():\n",
    "    print(\"avant\")\n",
    "    try:\n",
    "        yield\n",
    "    finally:\n",
    "        print(\"après\")"
   ]
  },
  {
   "cell_type": "code",
   "execution_count": 16,
   "metadata": {},
   "outputs": [
    {
     "name": "stdout",
     "output_type": "stream",
     "text": [
      "avant\n",
      "OK\n",
      "après\n"
     ]
    }
   ],
   "source": [
    "with montruc():\n",
    "    print(\"OK\")"
   ]
  },
  {
   "cell_type": "code",
   "execution_count": 17,
   "metadata": {},
   "outputs": [
    {
     "name": "stdout",
     "output_type": "stream",
     "text": [
      "avant\n",
      "après\n"
     ]
    }
   ],
   "source": [
    "try:\n",
    "    with montruc():\n",
    "        1/0\n",
    "except:\n",
    "    pass"
   ]
  }
 ],
 "metadata": {
  "kernelspec": {
   "display_name": "Python 3",
   "language": "python",
   "name": "python3"
  },
  "language_info": {
   "codemirror_mode": {
    "name": "ipython",
    "version": 3
   },
   "file_extension": ".py",
   "mimetype": "text/x-python",
   "name": "python",
   "nbconvert_exporter": "python",
   "pygments_lexer": "ipython3",
   "version": "3.6.6"
  }
 },
 "nbformat": 4,
 "nbformat_minor": 2
}
