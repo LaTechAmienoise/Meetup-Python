{
 "cells": [
  {
   "cell_type": "markdown",
   "metadata": {},
   "source": [
    "# Meetup Python Amiens #3 – Jeudi 28 juin 2018\n",
    "\n",
    "## Agenda\n",
    "\n",
    "- tour de table\n",
    "- annonces et présentations courtes\n",
    "- activités\n",
    "\n",
    "## Annonces et présentations courtes\n",
    "\n",
    "On parle de la sortie de [Python 3.7](https://docs.python.org/3/whatsnew/3.7.html).\n",
    "\n",
    "Bruno nous montre son petit problème de traitement du signal, création d'un filtre passe bande avec [scipy](https://www.scipy.org) pour traiter un fichier .wav, et visualisation dans un notebook [Jupyter](http://jupyter.org).\n",
    "\n",
    "Boris nous montre [balto](https://github.com/Lothiraldan/balto), un méta _test runner_ (pour [pytest](https://docs.pytest.org/en/latest/) mais avec des plugins pour d'autres runners, voire autres langages) avec un démon, une interface web React (version curses à venir).\n",
    "\n",
    "## Activités\n",
    "\n",
    "Les sujets proposés sont :\n",
    "\n",
    "- Programmation fonctionnelle (atelier) -> 6\n",
    "- CI, tests, qualité (discussion) -> 5\n",
    "- Packaging (wheels) -> 2\n",
    "\n",
    "### Atelier programmation fonctionnelle\n",
    "\n",
    "On essaie de lister ce qui pour nous caractérise la programmation fonctionnelle :\n",
    "- Données\n",
    "- Fonctions\n",
    "    - Fonctions pures : toujours la même sortie pour la même entrée, et pas d'effets de bord.\n",
    "    - Lambda : fonction anonyme.\n",
    "    - Assemblage de fonctions par composition.\n",
    "    - Fonctions sont des objets de premier ordre: on peut passer une fonction en paramètre, ou renvoyer une fonction en résultat.\n",
    "    - _Higher order function_: fonction qui travaille sur des fonctions.\n",
    "    - Curryfication: technique pour transformer une fonction à N arguments en une fonction à 1 argument qui renvoie une fonction\n",
    "    - Application partielle: transformer une fonction à N arguments + le 1er argument, en une fonction des N-1 arguments restants\n",
    "    - Fermeture (_closure_): fonction qui transporte avec elle des valeurs définies dans un scope englobant\n",
    "    - Récursivité\n",
    "- Immutabilité\n",
    "- Map, Reduce, Filter\n",
    "- Traitement de flux\n",
    "- Évaluation paresseuse\n",
    "\n",
    "Choses qui manquent en Python :\n",
    "- _pattern matching_\n",
    "- _tail-recursion optimization_\n",
    "- structures de données immutables optimisées\n",
    "\n",
    "Modules à regarder:\n",
    "- [toolz](https://toolz.readthedocs.io/)\n",
    "- [fn.py](https://github.com/kachayev/fn.py)\n",
    "- [MacroPy](https://macropy3.readthedocs.io/)"
   ]
  },
  {
   "cell_type": "markdown",
   "metadata": {},
   "source": [
    "Exemple de fonction d'ordre supérieur (qui renvoie une fonction), et qui utilise une fermeture (_closure_) pour capturer une valeur du _scope_ englobant :"
   ]
  },
  {
   "cell_type": "code",
   "execution_count": null,
   "metadata": {
    "scrolled": true
   },
   "outputs": [],
   "source": [
    "def fabrique_moi_un_additionneur(n):\n",
    "    def ajoute(x):\n",
    "        return x + n\n",
    "    return ajoute\n",
    "\n",
    "ajoute_deux = fabrique_moi_un_additionneur(2)\n",
    "ajoute_trois = fabrique_moi_un_additionneur(3)\n",
    "\n",
    "assert ajoute_deux(10) == 12\n",
    "assert ajoute_trois(10) == 13"
   ]
  },
  {
   "cell_type": "markdown",
   "metadata": {},
   "source": [
    "Exemple d'application partielle :"
   ]
  },
  {
   "cell_type": "code",
   "execution_count": null,
   "metadata": {},
   "outputs": [],
   "source": [
    "from functools import partial\n",
    "\n",
    "def add(a, b):\n",
    "    return a + b\n",
    "\n",
    "ajoute_deux = partial(add, 2)\n",
    "ajoute_trois = partial(add, 3)\n",
    "\n",
    "assert ajoute_deux(10) == 12\n",
    "assert ajoute_trois(10) == 13"
   ]
  }
 ],
 "metadata": {
  "kernelspec": {
   "display_name": "Python 3",
   "language": "python",
   "name": "python3"
  },
  "language_info": {
   "codemirror_mode": {
    "name": "ipython",
    "version": 3
   },
   "file_extension": ".py",
   "mimetype": "text/x-python",
   "name": "python",
   "nbconvert_exporter": "python",
   "pygments_lexer": "ipython3",
   "version": "3.6.5"
  }
 },
 "nbformat": 4,
 "nbformat_minor": 2
}
