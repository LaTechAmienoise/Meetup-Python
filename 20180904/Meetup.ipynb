{
 "cells": [
  {
   "cell_type": "markdown",
   "metadata": {},
   "source": [
    "# Meetup Python Amiens #4 – Mardi 4 septembre 2018"
   ]
  },
  {
   "cell_type": "code",
   "execution_count": 2,
   "metadata": {},
   "outputs": [
    {
     "name": "stdout",
     "output_type": "stream",
     "text": [
      "Welcome !\n"
     ]
    }
   ],
   "source": [
    "print(\"Welcome !\")"
   ]
  },
  {
   "cell_type": "markdown",
   "metadata": {},
   "source": [
    "## Agenda\n",
    "\n",
    "- tour de table\n",
    "- annonces et présentations courtes\n",
    "- activité(s)"
   ]
  },
  {
   "cell_type": "markdown",
   "metadata": {},
   "source": [
    "## Annonces et présentations courtes"
   ]
  },
  {
   "cell_type": "markdown",
   "metadata": {},
   "source": [
    "- PyCon Fr 2018 à Lille du 4 au 7 octobre : https://www.pycon.fr/2018/\n",
    "- Mu (éditeur de texte Python pour débutants) : https://codewith.mu/\n",
    "- MicroPython sur ESP8266 (Bruno) :\n",
    "    - http://docs.micropython.org/en/latest/pyboard/library/esp.html\n",
    "    - https://bbonfils.pages.opencsi.com/asyd.net/electronic/micropython.html\n",
    "- Kivy (Lola) :\n",
    "    - https://kivy.org/doc/stable/tutorials/pong.html\n",
    "    - https://github.com/kivy/buildozer\n",
    "- Présentation de cxfreeze (Jérôme et Joris)"
   ]
  },
  {
   "cell_type": "markdown",
   "metadata": {},
   "source": [
    "## Activités\n",
    "\n",
    "Sujets proposés :\n",
    "\n",
    "- Python et intégration continue\n",
    "- Programmation fonctionnelle (le retour)\n",
    "- Comment tester avec une dépendance extérieure (mocker un serveur web)\n",
    "\n",
    "### Atelier d'introduction aux tests unitaires / intégration continue\n",
    "\n",
    "Le code de l'atelier : https://github.com/ronnix/meetup-python-demo-ci\n",
    "\n",
    "Les sujets abordés :\n",
    "\n",
    "  * [pytest](https://docs.pytest.org/)\n",
    "  * démonstration de [CircleCI](https://circleci.com)\n",
    "  * [flake8](https://pypi.org/project/flake8/) : vérification des règles de style de la [PEP8](https://www.python.org/dev/peps/pep-0008/)\n",
    "  * [black](https://github.com/ambv/black) : reformattage automatique du code\n",
    "  * [mypy](http://mypy-lang.org/) : vérification statique des [annotations de type de Python 3.5+](https://docs.python.org/3/library/typing.html)\n"
   ]
  }
 ],
 "metadata": {
  "kernelspec": {
   "display_name": "Python 3",
   "language": "python",
   "name": "python3"
  },
  "language_info": {
   "codemirror_mode": {
    "name": "ipython",
    "version": 3
   },
   "file_extension": ".py",
   "mimetype": "text/x-python",
   "name": "python",
   "nbconvert_exporter": "python",
   "pygments_lexer": "ipython3",
   "version": "3.6.5"
  }
 },
 "nbformat": 4,
 "nbformat_minor": 2
}
