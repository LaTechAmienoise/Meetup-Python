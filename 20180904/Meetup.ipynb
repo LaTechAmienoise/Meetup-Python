{
 "cells": [
  {
   "cell_type": "markdown",
   "metadata": {},
   "source": [
    "# Meetup #4 – Mardi 4 septembre 2018"
   ]
  },
  {
   "cell_type": "code",
   "execution_count": 2,
   "metadata": {},
   "outputs": [
    {
     "name": "stdout",
     "output_type": "stream",
     "text": [
      "Welcome !\n"
     ]
    }
   ],
   "source": [
    "print(\"Welcome !\")"
   ]
  },
  {
   "cell_type": "markdown",
   "metadata": {},
   "source": [
    "## Agenda\n",
    "\n",
    "- tour de table\n",
    "- annonces et présentations courtes\n",
    "- atelier(s)"
   ]
  },
  {
   "cell_type": "markdown",
   "metadata": {},
   "source": [
    "## Annonces et présentations courtes"
   ]
  },
  {
   "cell_type": "markdown",
   "metadata": {},
   "source": [
    "- PyCon Fr 2018 à Lille du 4 au 7 octobre : https://www.pycon.fr/2018/\n",
    "- Mu (éditeur de texte Python pour débutants) : https://codewith.mu/\n",
    "- MicroPython sur ESP8266 (Bruno) :\n",
    "    - http://docs.micropython.org/en/latest/pyboard/library/esp.html\n",
    "    - https://bbonfils.pages.opencsi.com/asyd.net/electronic/micropython.html\n",
    "- Kivy (Lola) :\n",
    "    - https://kivy.org/doc/stable/tutorials/pong.html\n",
    "    - https://github.com/kivy/buildozer\n",
    "- Présentation de cxfreeze (Jérôme et Joris)\n"
   ]
  },
  {
   "cell_type": "markdown",
   "metadata": {},
   "source": [
    "## Ateliers\n",
    "\n",
    "Sujets proposés :\n",
    "\n",
    "- Python et intégration continue\n",
    "- Programmation fonctionnelle (2)\n",
    "- Comment tester avec une dépendance extérieure (mocker un serveur web)\n",
    "\n",
    "\n",
    "\n",
    "# Introduction aux tests unitaires / intégration continue\n",
    "\n",
    "Le code de l'atelier : https://github.com/ronnix/meetup-python-demo-ci\n",
    "\n",
    "Les sujets abordés :\n",
    "\n",
    "  * pytest\n",
    "  * Démonstration de circleci\n",
    "  * [Flake8](https://pypi.org/project/flake8/) (coding style)\n",
    "  * [Black](https://github.com/ambv/black) (reformattage de code)\n",
    "  * [mypy](http://mypy-lang.org/) Vérificateur de type, [cf la doc Python](https://docs.python.org/3/library/typing.html)"
   ]
  },
  {
   "cell_type": "code",
   "execution_count": null,
   "metadata": {},
   "outputs": [],
   "source": []
  }
 ],
 "metadata": {
  "kernelspec": {
   "display_name": "Python 3",
   "language": "python",
   "name": "python3"
  },
  "language_info": {
   "codemirror_mode": {
    "name": "ipython",
    "version": 3
   },
   "file_extension": ".py",
   "mimetype": "text/x-python",
   "name": "python",
   "nbconvert_exporter": "python",
   "pygments_lexer": "ipython3",
   "version": "3.6.5"
  }
 },
 "nbformat": 4,
 "nbformat_minor": 2
}
