{
 "cells": [
  {
   "cell_type": "markdown",
   "metadata": {},
   "source": [
    "# Meetup Python Amiens #2 – Mardi 15 mai 2018\n",
    "\n",
    "## Agenda\n",
    "\n",
    "- tour de table\n",
    "- annonces et présentations courtes\n",
    "- activités\n",
    "\n",
    "## Annonces et présentations courtes\n",
    "\n",
    "- Bruno présente [pipenv](https://pipenv.readthedocs.io/)\n",
    "- [Jérémy](http://www.utc.fr/~jlaforet/) nous raconte ce qu’ils font à l'UTC sur la simulation des muscles avec Python\n",
    "\n",
    "## Activités\n",
    "\n",
    "Les sujets proposés :\n",
    "- machine learning -> 18\n",
    "- interfaces avec Kivy -> 9\n",
    "- Python + C++ = ♥ (libtorrent) -> 5\n",
    "- list comprehensions -> 5\n",
    "- Django et les autres -> 4\n",
    "\n",
    "À la demande générale, Vincent improvise un petit cours sur le _machine learning_.\n"
   ]
  }
 ],
 "metadata": {
  "kernelspec": {
   "display_name": "Python 3",
   "language": "python",
   "name": "python3"
  },
  "language_info": {
   "codemirror_mode": {
    "name": "ipython",
    "version": 3
   },
   "file_extension": ".py",
   "mimetype": "text/x-python",
   "name": "python",
   "nbconvert_exporter": "python",
   "pygments_lexer": "ipython3",
   "version": "3.6.5"
  }
 },
 "nbformat": 4,
 "nbformat_minor": 2
}
