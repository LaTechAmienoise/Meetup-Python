{
 "cells": [
  {
   "cell_type": "markdown",
   "metadata": {},
   "source": [
    "# Meetup #7 – 11 décembre 2018\n",
    "\n",
    "## Agenda\n",
    "\n",
    "- tour de table\n",
    "- présentations courtes\n",
    "- activités"
   ]
  },
  {
   "cell_type": "markdown",
   "metadata": {},
   "source": [
    "## Présentations courtes\n",
    "\n",
    "- Retours d'expérience sur des trucs qui marchent bien pour apprendre Python :\n",
    "    - [SoloLearn](https://www.sololearn.com)\n",
    "    - [« Apprendre à programmer avec Python »](https://inforef.be/swi/python.htm) de Gérard Swinnen\n",
    "    - [FUN MOOC](https://www.fun-mooc.fr)\n",
    "    - [CodinGame](https://www.codingame.com)\n",
    "- Retours d'expérience sur Pipenv\n",
    "    - https://hynek.me/articles/python-app-deps-2018/"
   ]
  },
  {
   "cell_type": "markdown",
   "metadata": {},
   "source": [
    "## Activités\n",
    "\n",
    "- coder ensemble un problème du Advent of Code 2018 : https://adventofcode.com (18)\n",
    "    - explorer différentes solutions / variantes\n",
    "- explorer ROS (Robot Operating System) : http://www.ros.org (12)\n",
    "- explorer SpaCy (analyse de texte) : https://spacy.io (14)\n"
   ]
  },
  {
   "cell_type": "markdown",
   "metadata": {},
   "source": [
    "### Advent of Code"
   ]
  },
  {
   "cell_type": "markdown",
   "metadata": {},
   "source": [
    "On regarde différentes manières de résoudre les tous premiers problèmes, et on en profite pour se pencher sur différents éléments du langage et de la bibliothèque standard de Python.\n",
    "\n",
    "https://github.com/ronnix/jeux-de-programmation/tree/master/03-advent-of-code-2018"
   ]
  },
  {
   "cell_type": "markdown",
   "metadata": {},
   "source": [
    "On voit d'abord la fonction native [sum](https://docs.python.org/fr/3/library/functions.html#sum) :"
   ]
  },
  {
   "cell_type": "code",
   "execution_count": 1,
   "metadata": {},
   "outputs": [
    {
     "data": {
      "text/plain": [
       "6"
      ]
     },
     "execution_count": 1,
     "metadata": {},
     "output_type": "execute_result"
    }
   ],
   "source": [
    "sum([1, 2, 3])"
   ]
  },
  {
   "cell_type": "markdown",
   "metadata": {},
   "source": [
    "Puis les [compréhensions de listes](https://docs.python.org/fr/3/tutorial/datastructures.html#list-comprehensions) (*list comprehensions*) :"
   ]
  },
  {
   "cell_type": "code",
   "execution_count": 2,
   "metadata": {},
   "outputs": [],
   "source": [
    "liste = [1, 2, 3]"
   ]
  },
  {
   "cell_type": "code",
   "execution_count": 3,
   "metadata": {},
   "outputs": [
    {
     "data": {
      "text/plain": [
       "[1, 4, 9]"
      ]
     },
     "execution_count": 3,
     "metadata": {},
     "output_type": "execute_result"
    }
   ],
   "source": [
    "[n * n for n in liste]"
   ]
  },
  {
   "cell_type": "code",
   "execution_count": 4,
   "metadata": {},
   "outputs": [
    {
     "name": "stdout",
     "output_type": "stream",
     "text": [
      "[1, 4, 9]\n"
     ]
    }
   ],
   "source": [
    "carres = []\n",
    "for n in liste:\n",
    "    carres.append(n * n)\n",
    "print(carres)"
   ]
  },
  {
   "cell_type": "markdown",
   "metadata": {},
   "source": [
    "Un style plus typique de la programmation fonctionnelle avec [map](https://docs.python.org/fr/3/library/functions.html#map) :"
   ]
  },
  {
   "cell_type": "code",
   "execution_count": 5,
   "metadata": {},
   "outputs": [
    {
     "data": {
      "text/plain": [
       "[1, 4, 9]"
      ]
     },
     "execution_count": 5,
     "metadata": {},
     "output_type": "execute_result"
    }
   ],
   "source": [
    "def carre(n):\n",
    "    return n * n\n",
    "\n",
    "list(map(carre, liste))"
   ]
  },
  {
   "cell_type": "markdown",
   "metadata": {},
   "source": [
    "On peut utiliser `lambda` pour passer une fonction anonyme en premier paramètre :"
   ]
  },
  {
   "cell_type": "code",
   "execution_count": 6,
   "metadata": {},
   "outputs": [
    {
     "data": {
      "text/plain": [
       "[1, 4, 9]"
      ]
     },
     "execution_count": 6,
     "metadata": {},
     "output_type": "execute_result"
    }
   ],
   "source": [
    "list(map(lambda n: n * n, liste))"
   ]
  },
  {
   "cell_type": "markdown",
   "metadata": {},
   "source": [
    "Une compréhension de liste peut inclure une condition :"
   ]
  },
  {
   "cell_type": "code",
   "execution_count": 7,
   "metadata": {},
   "outputs": [
    {
     "data": {
      "text/plain": [
       "[1, 3]"
      ]
     },
     "execution_count": 7,
     "metadata": {},
     "output_type": "execute_result"
    }
   ],
   "source": [
    "[n for n in liste if n % 2 != 0]"
   ]
  },
  {
   "cell_type": "markdown",
   "metadata": {},
   "source": [
    "Ce qu'on pourrait exprimer avec [filter](https://docs.python.org/fr/3/library/functions.html#filter) dans un style fonctionnel :"
   ]
  },
  {
   "cell_type": "code",
   "execution_count": 8,
   "metadata": {},
   "outputs": [
    {
     "data": {
      "text/plain": [
       "[2]"
      ]
     },
     "execution_count": 8,
     "metadata": {},
     "output_type": "execute_result"
    }
   ],
   "source": [
    "def est_pair(n):\n",
    "    return n % 2 == 0\n",
    "\n",
    "list(filter(est_pair, liste))"
   ]
  },
  {
   "cell_type": "code",
   "execution_count": 9,
   "metadata": {},
   "outputs": [
    {
     "data": {
      "text/plain": [
       "[2]"
      ]
     },
     "execution_count": 9,
     "metadata": {},
     "output_type": "execute_result"
    }
   ],
   "source": [
    "list(filter(lambda n: n % 2 == 0, liste))"
   ]
  },
  {
   "cell_type": "markdown",
   "metadata": {},
   "source": [
    "On peut créer une version spécialisée d'une fonction, qui fixe la valeur d'un paramètre. On appelle cela une _application partielle_ :"
   ]
  },
  {
   "cell_type": "code",
   "execution_count": 10,
   "metadata": {},
   "outputs": [
    {
     "data": {
      "text/plain": [
       "13"
      ]
     },
     "execution_count": 10,
     "metadata": {},
     "output_type": "execute_result"
    }
   ],
   "source": [
    "from functools import partial\n",
    "\n",
    "def ajoute_n(n, x):\n",
    "    return x + n\n",
    "\n",
    "ajoute_3 = partial(ajoute_n, 3)\n",
    "\n",
    "ajoute_3(10)"
   ]
  },
  {
   "cell_type": "markdown",
   "metadata": {},
   "source": [
    "Une tâche fréquente est de compter des choses, par exemple ici les lettres d'un texte :"
   ]
  },
  {
   "cell_type": "code",
   "execution_count": 11,
   "metadata": {},
   "outputs": [
    {
     "name": "stdout",
     "output_type": "stream",
     "text": [
      "{'j': 1, 'i': 1, 'r': 2, 'a': 1, 'm': 1, 'o': 1, 't': 2, 'q': 1, 'g': 1, 's': 1, 'f': 1, 'n': 1, 'u': 1, 'd': 1, 'c': 1, 'l': 1, 'z': 2, 'b': 1, 'y': 1, 'x': 1, 'e': 1, 'v': 1, 'p': 1}\n"
     ]
    }
   ],
   "source": [
    "mot = \"jiramotqgsfnudclzbyxztervp\"\n",
    "\n",
    "compteur = {}\n",
    "for lettre in mot:\n",
    "    if lettre not in compteur:\n",
    "        compteur[lettre] = 0\n",
    "    compteur[lettre] += 1\n",
    "print(compteur)"
   ]
  },
  {
   "cell_type": "markdown",
   "metadata": {},
   "source": [
    "On peut remplacer le bloc conditionnel par [setdefault](https://docs.python.org/fr/3/library/stdtypes.html#dict.setdefault) qui n'affectera la valeur que si la clé n'existe pas :"
   ]
  },
  {
   "cell_type": "code",
   "execution_count": 12,
   "metadata": {},
   "outputs": [
    {
     "name": "stdout",
     "output_type": "stream",
     "text": [
      "{'j': 1, 'i': 1, 'r': 2, 'a': 1, 'm': 1, 'o': 1, 't': 2, 'q': 1, 'g': 1, 's': 1, 'f': 1, 'n': 1, 'u': 1, 'd': 1, 'c': 1, 'l': 1, 'z': 2, 'b': 1, 'y': 1, 'x': 1, 'e': 1, 'v': 1, 'p': 1}\n"
     ]
    }
   ],
   "source": [
    "compteur = {}\n",
    "for lettre in mot:\n",
    "    compteur.setdefault(lettre, 0)\n",
    "    compteur[lettre] += 1\n",
    "print(compteur)"
   ]
  },
  {
   "cell_type": "markdown",
   "metadata": {},
   "source": [
    "Une approche voisine est d'utiliser [get](https://docs.python.org/fr/3/library/stdtypes.html#dict.get) qui permet de renvoyer une valeur par défaut si la clé n'existe pas."
   ]
  },
  {
   "cell_type": "code",
   "execution_count": 13,
   "metadata": {},
   "outputs": [
    {
     "name": "stdout",
     "output_type": "stream",
     "text": [
      "{'j': 1, 'i': 1, 'r': 2, 'a': 1, 'm': 1, 'o': 1, 't': 2, 'q': 1, 'g': 1, 's': 1, 'f': 1, 'n': 1, 'u': 1, 'd': 1, 'c': 1, 'l': 1, 'z': 2, 'b': 1, 'y': 1, 'x': 1, 'e': 1, 'v': 1, 'p': 1}\n"
     ]
    }
   ],
   "source": [
    "compteur = {}\n",
    "for lettre in mot:\n",
    "    compteur[lettre] = compteur.get(lettre, 0) + 1\n",
    "print(compteur)"
   ]
  },
  {
   "cell_type": "markdown",
   "metadata": {},
   "source": [
    "Mais il est encore plus simple d'utiliser le type [defaultdict](https://docs.python.org/fr/3/library/collections.html#collections.defaultdict) de la bibliothèque standard :"
   ]
  },
  {
   "cell_type": "code",
   "execution_count": 14,
   "metadata": {},
   "outputs": [
    {
     "name": "stdout",
     "output_type": "stream",
     "text": [
      "defaultdict(<class 'int'>, {'j': 1, 'i': 1, 'r': 2, 'a': 1, 'm': 1, 'o': 1, 't': 2, 'q': 1, 'g': 1, 's': 1, 'f': 1, 'n': 1, 'u': 1, 'd': 1, 'c': 1, 'l': 1, 'z': 2, 'b': 1, 'y': 1, 'x': 1, 'e': 1, 'v': 1, 'p': 1})\n"
     ]
    }
   ],
   "source": [
    "from collections import defaultdict\n",
    "\n",
    "compteur = defaultdict(int)\n",
    "for lettre in mot:\n",
    "    compteur[lettre] += 1\n",
    "print(compteur)"
   ]
  },
  {
   "cell_type": "markdown",
   "metadata": {},
   "source": [
    "Quand on veut compter des choses, on peut aussi utiliser [Counter](), qui peut s'utiliser de la même manière :"
   ]
  },
  {
   "cell_type": "code",
   "execution_count": 15,
   "metadata": {},
   "outputs": [
    {
     "name": "stdout",
     "output_type": "stream",
     "text": [
      "Counter({'r': 2, 't': 2, 'z': 2, 'j': 1, 'i': 1, 'a': 1, 'm': 1, 'o': 1, 'q': 1, 'g': 1, 's': 1, 'f': 1, 'n': 1, 'u': 1, 'd': 1, 'c': 1, 'l': 1, 'b': 1, 'y': 1, 'x': 1, 'e': 1, 'v': 1, 'p': 1})\n"
     ]
    }
   ],
   "source": [
    "from collections import Counter\n",
    "\n",
    "compteur = Counter()\n",
    "for lettre in mot:\n",
    "    compteur[lettre] += 1\n",
    "print(compteur)"
   ]
  },
  {
   "cell_type": "markdown",
   "metadata": {},
   "source": [
    "Plus simplement, on peut lui passer directement la séquence d'élements à compter :"
   ]
  },
  {
   "cell_type": "code",
   "execution_count": 16,
   "metadata": {},
   "outputs": [
    {
     "name": "stdout",
     "output_type": "stream",
     "text": [
      "Counter({'r': 2, 't': 2, 'z': 2, 'j': 1, 'i': 1, 'a': 1, 'm': 1, 'o': 1, 'q': 1, 'g': 1, 's': 1, 'f': 1, 'n': 1, 'u': 1, 'd': 1, 'c': 1, 'l': 1, 'b': 1, 'y': 1, 'x': 1, 'e': 1, 'v': 1, 'p': 1})\n"
     ]
    }
   ],
   "source": [
    "compteur = Counter(mot)\n",
    "print(compteur)"
   ]
  },
  {
   "cell_type": "markdown",
   "metadata": {},
   "source": [
    "Et ensuite, on peut lui poser la question de savoir quels sont les éléments les plus fréquents :"
   ]
  },
  {
   "cell_type": "code",
   "execution_count": 17,
   "metadata": {},
   "outputs": [
    {
     "data": {
      "text/plain": [
       "[('r', 2), ('t', 2), ('z', 2)]"
      ]
     },
     "execution_count": 17,
     "metadata": {},
     "output_type": "execute_result"
    }
   ],
   "source": [
    "compteur.most_common(3)"
   ]
  },
  {
   "cell_type": "markdown",
   "metadata": {},
   "source": [
    "Un autre exemple de `defaultdict`, cette fois avec des listes :"
   ]
  },
  {
   "cell_type": "code",
   "execution_count": 18,
   "metadata": {},
   "outputs": [
    {
     "data": {
      "text/plain": [
       "defaultdict(list,\n",
       "            {'consonnes': ['j',\n",
       "              'r',\n",
       "              'm',\n",
       "              't',\n",
       "              'q',\n",
       "              'g',\n",
       "              's',\n",
       "              'f',\n",
       "              'n',\n",
       "              'd',\n",
       "              'c',\n",
       "              'l',\n",
       "              'z',\n",
       "              'b',\n",
       "              'y',\n",
       "              'x',\n",
       "              'z',\n",
       "              't',\n",
       "              'r',\n",
       "              'v',\n",
       "              'p'],\n",
       "             'voyelles': ['i', 'a', 'o', 'u', 'e']})"
      ]
     },
     "execution_count": 18,
     "metadata": {},
     "output_type": "execute_result"
    }
   ],
   "source": [
    "d = defaultdict(list)\n",
    "for lettre in mot:\n",
    "    if lettre in \"aeiou\":\n",
    "        d[\"voyelles\"].append(lettre)\n",
    "    else:\n",
    "        d[\"consonnes\"].append(lettre)\n",
    "d"
   ]
  }
 ],
 "metadata": {
  "kernelspec": {
   "display_name": "Python 3",
   "language": "python",
   "name": "python3"
  },
  "language_info": {
   "codemirror_mode": {
    "name": "ipython",
    "version": 3
   },
   "file_extension": ".py",
   "mimetype": "text/x-python",
   "name": "python",
   "nbconvert_exporter": "python",
   "pygments_lexer": "ipython3",
   "version": "3.6.6"
  }
 },
 "nbformat": 4,
 "nbformat_minor": 2
}
