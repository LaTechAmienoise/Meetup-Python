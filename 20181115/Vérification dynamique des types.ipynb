{
 "cells": [
  {
   "cell_type": "markdown",
   "metadata": {},
   "source": [
    "# Vérification dynamique des types\n",
    "Python 3.6 permet d'ajouter (de manière optionnelle) des annotations de type à notre programme."
   ]
  },
  {
   "cell_type": "code",
   "execution_count": 1,
   "metadata": {},
   "outputs": [],
   "source": [
    "def add(x: int, y: int) -> int:\n",
    "    return x + y"
   ]
  },
  {
   "cell_type": "markdown",
   "metadata": {},
   "source": [
    "Un outil comme [mypy](http://mypy-lang.org) permet d'analyser notre programme pour vérifier sa cohérence (analyse statique).\n",
    "\n",
    "Par contre, les types ne seront pas vérifiés dynamiquement par CPython à l'exécution."
   ]
  },
  {
   "cell_type": "code",
   "execution_count": 2,
   "metadata": {},
   "outputs": [
    {
     "data": {
      "text/plain": [
       "5"
      ]
     },
     "execution_count": 2,
     "metadata": {},
     "output_type": "execute_result"
    }
   ],
   "source": [
    "add(2, 3)"
   ]
  },
  {
   "cell_type": "code",
   "execution_count": 3,
   "metadata": {},
   "outputs": [
    {
     "data": {
      "text/plain": [
       "'bonjour le monde'"
      ]
     },
     "execution_count": 3,
     "metadata": {},
     "output_type": "execute_result"
    }
   ],
   "source": [
    "add(\"bonjour\", \" le monde\")  # pas de problème !"
   ]
  },
  {
   "cell_type": "markdown",
   "metadata": {},
   "source": [
    "On explore différentes manières de vérifier les types à l'exécution."
   ]
  },
  {
   "cell_type": "markdown",
   "metadata": {},
   "source": [
    "On peut commencer par vérifier le type des paramètres au début de la fonction :"
   ]
  },
  {
   "cell_type": "code",
   "execution_count": 4,
   "metadata": {},
   "outputs": [],
   "source": [
    "def add(x: int, y: int) -> int:\n",
    "    if not isinstance(x, int):\n",
    "        raise ValueError(f\"x est de type '{x.__class__.__name__}', 'int' attendu\")\n",
    "    if not isinstance(y, int):\n",
    "        raise ValueError(f\"y est de type '{y.__class__.__name__}', 'int' attendu\")\n",
    "    return x + y"
   ]
  },
  {
   "cell_type": "code",
   "execution_count": 5,
   "metadata": {},
   "outputs": [
    {
     "data": {
      "text/plain": [
       "5"
      ]
     },
     "execution_count": 5,
     "metadata": {},
     "output_type": "execute_result"
    }
   ],
   "source": [
    "add(2, 3)"
   ]
  },
  {
   "cell_type": "code",
   "execution_count": 6,
   "metadata": {},
   "outputs": [
    {
     "ename": "ValueError",
     "evalue": "x est de type 'str', 'int' attendu",
     "output_type": "error",
     "traceback": [
      "\u001b[0;31m---------------------------------------------------------------------------\u001b[0m",
      "\u001b[0;31mValueError\u001b[0m                                Traceback (most recent call last)",
      "\u001b[0;32m<ipython-input-6-c5da5e146f48>\u001b[0m in \u001b[0;36m<module>\u001b[0;34m\u001b[0m\n\u001b[0;32m----> 1\u001b[0;31m \u001b[0madd\u001b[0m\u001b[0;34m(\u001b[0m\u001b[0;34m\"bonjour\"\u001b[0m\u001b[0;34m,\u001b[0m \u001b[0;34m\" le monde\"\u001b[0m\u001b[0;34m)\u001b[0m\u001b[0;34m\u001b[0m\u001b[0m\n\u001b[0m",
      "\u001b[0;32m<ipython-input-4-b2d76156ab9e>\u001b[0m in \u001b[0;36madd\u001b[0;34m(x, y)\u001b[0m\n\u001b[1;32m      1\u001b[0m \u001b[0;32mdef\u001b[0m \u001b[0madd\u001b[0m\u001b[0;34m(\u001b[0m\u001b[0mx\u001b[0m\u001b[0;34m:\u001b[0m \u001b[0mint\u001b[0m\u001b[0;34m,\u001b[0m \u001b[0my\u001b[0m\u001b[0;34m:\u001b[0m \u001b[0mint\u001b[0m\u001b[0;34m)\u001b[0m \u001b[0;34m->\u001b[0m \u001b[0mint\u001b[0m\u001b[0;34m:\u001b[0m\u001b[0;34m\u001b[0m\u001b[0m\n\u001b[1;32m      2\u001b[0m     \u001b[0;32mif\u001b[0m \u001b[0;32mnot\u001b[0m \u001b[0misinstance\u001b[0m\u001b[0;34m(\u001b[0m\u001b[0mx\u001b[0m\u001b[0;34m,\u001b[0m \u001b[0mint\u001b[0m\u001b[0;34m)\u001b[0m\u001b[0;34m:\u001b[0m\u001b[0;34m\u001b[0m\u001b[0m\n\u001b[0;32m----> 3\u001b[0;31m         \u001b[0;32mraise\u001b[0m \u001b[0mValueError\u001b[0m\u001b[0;34m(\u001b[0m\u001b[0;34mf\"x est de type '{x.__class__.__name__}', 'int' attendu\"\u001b[0m\u001b[0;34m)\u001b[0m\u001b[0;34m\u001b[0m\u001b[0m\n\u001b[0m\u001b[1;32m      4\u001b[0m     \u001b[0;32mif\u001b[0m \u001b[0;32mnot\u001b[0m \u001b[0misinstance\u001b[0m\u001b[0;34m(\u001b[0m\u001b[0my\u001b[0m\u001b[0;34m,\u001b[0m \u001b[0mint\u001b[0m\u001b[0;34m)\u001b[0m\u001b[0;34m:\u001b[0m\u001b[0;34m\u001b[0m\u001b[0m\n\u001b[1;32m      5\u001b[0m         \u001b[0;32mraise\u001b[0m \u001b[0mValueError\u001b[0m\u001b[0;34m(\u001b[0m\u001b[0;34mf\"y est de type '{y.__class__.__name__}', 'int' attendu\"\u001b[0m\u001b[0;34m)\u001b[0m\u001b[0;34m\u001b[0m\u001b[0m\n",
      "\u001b[0;31mValueError\u001b[0m: x est de type 'str', 'int' attendu"
     ]
    }
   ],
   "source": [
    "add(\"bonjour\", \" le monde\")"
   ]
  },
  {
   "cell_type": "markdown",
   "metadata": {},
   "source": [
    "C'est un petit peu répétitif, donc on peut factoriser avec une fonction :"
   ]
  },
  {
   "cell_type": "code",
   "execution_count": 7,
   "metadata": {},
   "outputs": [],
   "source": [
    "def check_arg_type(name, value, expected):\n",
    "    if not isinstance(value, expected):\n",
    "        raise ValueError(f\"{name} est de type '{value.__class__.__name__}', '{expected.__name__}' attendu\")\n",
    "\n",
    "def add(x: int, y: int) -> int:\n",
    "    check_arg_type(\"x\", x, int)\n",
    "    check_arg_type(\"y\", y, int)\n",
    "    return x + y"
   ]
  },
  {
   "cell_type": "code",
   "execution_count": 8,
   "metadata": {},
   "outputs": [
    {
     "ename": "ValueError",
     "evalue": "x est de type 'str', 'int' attendu",
     "output_type": "error",
     "traceback": [
      "\u001b[0;31m---------------------------------------------------------------------------\u001b[0m",
      "\u001b[0;31mValueError\u001b[0m                                Traceback (most recent call last)",
      "\u001b[0;32m<ipython-input-8-c5da5e146f48>\u001b[0m in \u001b[0;36m<module>\u001b[0;34m\u001b[0m\n\u001b[0;32m----> 1\u001b[0;31m \u001b[0madd\u001b[0m\u001b[0;34m(\u001b[0m\u001b[0;34m\"bonjour\"\u001b[0m\u001b[0;34m,\u001b[0m \u001b[0;34m\" le monde\"\u001b[0m\u001b[0;34m)\u001b[0m\u001b[0;34m\u001b[0m\u001b[0m\n\u001b[0m",
      "\u001b[0;32m<ipython-input-7-33f06aacb873>\u001b[0m in \u001b[0;36madd\u001b[0;34m(x, y)\u001b[0m\n\u001b[1;32m      4\u001b[0m \u001b[0;34m\u001b[0m\u001b[0m\n\u001b[1;32m      5\u001b[0m \u001b[0;32mdef\u001b[0m \u001b[0madd\u001b[0m\u001b[0;34m(\u001b[0m\u001b[0mx\u001b[0m\u001b[0;34m:\u001b[0m \u001b[0mint\u001b[0m\u001b[0;34m,\u001b[0m \u001b[0my\u001b[0m\u001b[0;34m:\u001b[0m \u001b[0mint\u001b[0m\u001b[0;34m)\u001b[0m \u001b[0;34m->\u001b[0m \u001b[0mint\u001b[0m\u001b[0;34m:\u001b[0m\u001b[0;34m\u001b[0m\u001b[0m\n\u001b[0;32m----> 6\u001b[0;31m     \u001b[0mcheck_arg_type\u001b[0m\u001b[0;34m(\u001b[0m\u001b[0;34m\"x\"\u001b[0m\u001b[0;34m,\u001b[0m \u001b[0mx\u001b[0m\u001b[0;34m,\u001b[0m \u001b[0mint\u001b[0m\u001b[0;34m)\u001b[0m\u001b[0;34m\u001b[0m\u001b[0m\n\u001b[0m\u001b[1;32m      7\u001b[0m     \u001b[0mcheck_arg_type\u001b[0m\u001b[0;34m(\u001b[0m\u001b[0;34m\"y\"\u001b[0m\u001b[0;34m,\u001b[0m \u001b[0my\u001b[0m\u001b[0;34m,\u001b[0m \u001b[0mint\u001b[0m\u001b[0;34m)\u001b[0m\u001b[0;34m\u001b[0m\u001b[0m\n\u001b[1;32m      8\u001b[0m     \u001b[0;32mreturn\u001b[0m \u001b[0mx\u001b[0m \u001b[0;34m+\u001b[0m \u001b[0my\u001b[0m\u001b[0;34m\u001b[0m\u001b[0m\n",
      "\u001b[0;32m<ipython-input-7-33f06aacb873>\u001b[0m in \u001b[0;36mcheck_arg_type\u001b[0;34m(name, value, expected)\u001b[0m\n\u001b[1;32m      1\u001b[0m \u001b[0;32mdef\u001b[0m \u001b[0mcheck_arg_type\u001b[0m\u001b[0;34m(\u001b[0m\u001b[0mname\u001b[0m\u001b[0;34m,\u001b[0m \u001b[0mvalue\u001b[0m\u001b[0;34m,\u001b[0m \u001b[0mexpected\u001b[0m\u001b[0;34m)\u001b[0m\u001b[0;34m:\u001b[0m\u001b[0;34m\u001b[0m\u001b[0m\n\u001b[1;32m      2\u001b[0m     \u001b[0;32mif\u001b[0m \u001b[0;32mnot\u001b[0m \u001b[0misinstance\u001b[0m\u001b[0;34m(\u001b[0m\u001b[0mvalue\u001b[0m\u001b[0;34m,\u001b[0m \u001b[0mexpected\u001b[0m\u001b[0;34m)\u001b[0m\u001b[0;34m:\u001b[0m\u001b[0;34m\u001b[0m\u001b[0m\n\u001b[0;32m----> 3\u001b[0;31m         \u001b[0;32mraise\u001b[0m \u001b[0mValueError\u001b[0m\u001b[0;34m(\u001b[0m\u001b[0;34mf\"{name} est de type '{value.__class__.__name__}', '{expected.__name__}' attendu\"\u001b[0m\u001b[0;34m)\u001b[0m\u001b[0;34m\u001b[0m\u001b[0m\n\u001b[0m\u001b[1;32m      4\u001b[0m \u001b[0;34m\u001b[0m\u001b[0m\n\u001b[1;32m      5\u001b[0m \u001b[0;32mdef\u001b[0m \u001b[0madd\u001b[0m\u001b[0;34m(\u001b[0m\u001b[0mx\u001b[0m\u001b[0;34m:\u001b[0m \u001b[0mint\u001b[0m\u001b[0;34m,\u001b[0m \u001b[0my\u001b[0m\u001b[0;34m:\u001b[0m \u001b[0mint\u001b[0m\u001b[0;34m)\u001b[0m \u001b[0;34m->\u001b[0m \u001b[0mint\u001b[0m\u001b[0;34m:\u001b[0m\u001b[0;34m\u001b[0m\u001b[0m\n",
      "\u001b[0;31mValueError\u001b[0m: x est de type 'str', 'int' attendu"
     ]
    }
   ],
   "source": [
    "add(\"bonjour\", \" le monde\")"
   ]
  },
  {
   "cell_type": "markdown",
   "metadata": {},
   "source": [
    "Mais ça reste redondant avec les annotations de type : on dit deux fois la même chose.\n",
    "\n",
    "Heureusement, ces annotations sont rattachées par Python à la fonction, ce qui nous permet de les inspecter :"
   ]
  },
  {
   "cell_type": "code",
   "execution_count": 9,
   "metadata": {},
   "outputs": [
    {
     "data": {
      "text/plain": [
       "{'x': int, 'y': int, 'return': int}"
      ]
     },
     "execution_count": 9,
     "metadata": {},
     "output_type": "execute_result"
    }
   ],
   "source": [
    "add.__annotations__"
   ]
  },
  {
   "cell_type": "markdown",
   "metadata": {},
   "source": [
    "On peut ainsi écrire un décorateur qui va automatiquement vérifier que les types des paramètres correspondent aux annotations.\n",
    "\n",
    "(Note : pour simplifier le problème, on ne considère ici que le cas des parmètres passés par mots-clés.)"
   ]
  },
  {
   "cell_type": "code",
   "execution_count": 10,
   "metadata": {},
   "outputs": [],
   "source": [
    "def check_types(func):\n",
    "    def wrapper(*args, **kwargs):\n",
    "        for name, type_ in func.__annotations__.items():\n",
    "            if name == \"return\":\n",
    "                continue\n",
    "            if not isinstance(kwargs[name], type_):\n",
    "                raise ValueError(f\"{name} est de type '{kwargs[name].__class__.__name__}', '{type_.__name__}' attendu\")\n",
    "        return func(*args, **kwargs)\n",
    "    return wrapper\n",
    "\n",
    "\n",
    "@check_types\n",
    "def add(x : int, y : int) -> int:\n",
    "    return x + y"
   ]
  },
  {
   "cell_type": "code",
   "execution_count": 11,
   "metadata": {},
   "outputs": [
    {
     "data": {
      "text/plain": [
       "5"
      ]
     },
     "execution_count": 11,
     "metadata": {},
     "output_type": "execute_result"
    }
   ],
   "source": [
    "add(x=2, y=3)"
   ]
  },
  {
   "cell_type": "code",
   "execution_count": 12,
   "metadata": {},
   "outputs": [
    {
     "ename": "ValueError",
     "evalue": "x est de type 'str', 'int' attendu",
     "output_type": "error",
     "traceback": [
      "\u001b[0;31m---------------------------------------------------------------------------\u001b[0m",
      "\u001b[0;31mValueError\u001b[0m                                Traceback (most recent call last)",
      "\u001b[0;32m<ipython-input-12-bbf5dff5d1bf>\u001b[0m in \u001b[0;36m<module>\u001b[0;34m\u001b[0m\n\u001b[0;32m----> 1\u001b[0;31m \u001b[0madd\u001b[0m\u001b[0;34m(\u001b[0m\u001b[0mx\u001b[0m\u001b[0;34m=\u001b[0m\u001b[0;34m\"bonjour\"\u001b[0m\u001b[0;34m,\u001b[0m \u001b[0my\u001b[0m\u001b[0;34m=\u001b[0m\u001b[0;34m\" le monde\"\u001b[0m\u001b[0;34m)\u001b[0m\u001b[0;34m\u001b[0m\u001b[0m\n\u001b[0m",
      "\u001b[0;32m<ipython-input-10-d62533105afa>\u001b[0m in \u001b[0;36mwrapper\u001b[0;34m(*args, **kwargs)\u001b[0m\n\u001b[1;32m      5\u001b[0m                 \u001b[0;32mcontinue\u001b[0m\u001b[0;34m\u001b[0m\u001b[0m\n\u001b[1;32m      6\u001b[0m             \u001b[0;32mif\u001b[0m \u001b[0;32mnot\u001b[0m \u001b[0misinstance\u001b[0m\u001b[0;34m(\u001b[0m\u001b[0mkwargs\u001b[0m\u001b[0;34m[\u001b[0m\u001b[0mname\u001b[0m\u001b[0;34m]\u001b[0m\u001b[0;34m,\u001b[0m \u001b[0mtype_\u001b[0m\u001b[0;34m)\u001b[0m\u001b[0;34m:\u001b[0m\u001b[0;34m\u001b[0m\u001b[0m\n\u001b[0;32m----> 7\u001b[0;31m                 \u001b[0;32mraise\u001b[0m \u001b[0mValueError\u001b[0m\u001b[0;34m(\u001b[0m\u001b[0;34mf\"{name} est de type '{kwargs[name].__class__.__name__}', '{type_.__name__}' attendu\"\u001b[0m\u001b[0;34m)\u001b[0m\u001b[0;34m\u001b[0m\u001b[0m\n\u001b[0m\u001b[1;32m      8\u001b[0m         \u001b[0;32mreturn\u001b[0m \u001b[0mfunc\u001b[0m\u001b[0;34m(\u001b[0m\u001b[0;34m*\u001b[0m\u001b[0margs\u001b[0m\u001b[0;34m,\u001b[0m \u001b[0;34m**\u001b[0m\u001b[0mkwargs\u001b[0m\u001b[0;34m)\u001b[0m\u001b[0;34m\u001b[0m\u001b[0m\n\u001b[1;32m      9\u001b[0m     \u001b[0;32mreturn\u001b[0m \u001b[0mwrapper\u001b[0m\u001b[0;34m\u001b[0m\u001b[0m\n",
      "\u001b[0;31mValueError\u001b[0m: x est de type 'str', 'int' attendu"
     ]
    }
   ],
   "source": [
    "add(x=\"bonjour\", y=\" le monde\")"
   ]
  },
  {
   "cell_type": "markdown",
   "metadata": {},
   "source": [
    "## Contrats"
   ]
  },
  {
   "cell_type": "markdown",
   "metadata": {},
   "source": [
    "Une autre manière d'aborder la vérification des types des paramètres est de les considérer comme un cas particulier de **préconditions**, dans une approche qu'on appelle [programmation par contrat](https://fr.wikipedia.org/wiki/Programmation_par_contrat).\n",
    "\n",
    "Un langage comme [Eiffel](https://fr.wikipedia.org/wiki/Eiffel_(langage)) inclut nativement ce genre de constructions, mais on peut les ajouter à Python au moyen de décorateurs.\n",
    "\n",
    "Un exemple de bibliothèque qui implémente ce genre de choses est [PyContracts](https://pypi.org/project/PyContracts/), qui permet d'écrire des choses de ce genre :"
   ]
  },
  {
   "cell_type": "code",
   "execution_count": 13,
   "metadata": {
    "collapsed": true
   },
   "outputs": [
    {
     "name": "stdout",
     "output_type": "stream",
     "text": [
      "Requirement already satisfied: PyContracts in /Users/ronan/.local/share/virtualenvs/Meetup-Python-CZjbcmMe/lib/python3.6/site-packages (1.8.7)\r\n",
      "Requirement already satisfied: future in /Users/ronan/.local/share/virtualenvs/Meetup-Python-CZjbcmMe/lib/python3.6/site-packages (from PyContracts) (0.17.1)\r\n",
      "Requirement already satisfied: decorator in /Users/ronan/.local/share/virtualenvs/Meetup-Python-CZjbcmMe/lib/python3.6/site-packages (from PyContracts) (4.3.0)\r\n",
      "Requirement already satisfied: six in /Users/ronan/.local/share/virtualenvs/Meetup-Python-CZjbcmMe/lib/python3.6/site-packages (from PyContracts) (1.11.0)\r\n",
      "Requirement already satisfied: pyparsing in /Users/ronan/.local/share/virtualenvs/Meetup-Python-CZjbcmMe/lib/python3.6/site-packages (from PyContracts) (2.3.0)\r\n"
     ]
    }
   ],
   "source": [
    "!pip install PyContracts"
   ]
  },
  {
   "cell_type": "code",
   "execution_count": 14,
   "metadata": {},
   "outputs": [],
   "source": [
    "from contracts import contract\n",
    "\n",
    "@contract\n",
    "def add(a: 'int', b: 'int,>0') -> 'int':\n",
    "    return a + b"
   ]
  },
  {
   "cell_type": "code",
   "execution_count": 15,
   "metadata": {},
   "outputs": [
    {
     "data": {
      "text/plain": [
       "5"
      ]
     },
     "execution_count": 15,
     "metadata": {},
     "output_type": "execute_result"
    }
   ],
   "source": [
    "add(2, 3)"
   ]
  },
  {
   "cell_type": "code",
   "execution_count": 16,
   "metadata": {},
   "outputs": [
    {
     "ename": "ContractNotRespected",
     "evalue": "Breach for argument 'b' to add().\nCondition -5 > 0 not respected\nchecking: >0       for value: Instance of <class 'int'>: -5   \nchecking: int,>0   for value: Instance of <class 'int'>: -5   \nVariables bound in inner context:\n",
     "output_type": "error",
     "traceback": [
      "\u001b[0;31m---------------------------------------------------------------------------\u001b[0m",
      "\u001b[0;31mContractNotRespected\u001b[0m                      Traceback (most recent call last)",
      "\u001b[0;32m<ipython-input-16-18d12f52c1fa>\u001b[0m in \u001b[0;36m<module>\u001b[0;34m\u001b[0m\n\u001b[0;32m----> 1\u001b[0;31m \u001b[0madd\u001b[0m\u001b[0;34m(\u001b[0m\u001b[0;36m2\u001b[0m\u001b[0;34m,\u001b[0m \u001b[0;34m-\u001b[0m\u001b[0;36m5\u001b[0m\u001b[0;34m)\u001b[0m\u001b[0;34m\u001b[0m\u001b[0m\n\u001b[0m",
      "\u001b[0;32m<decorator-gen-125>\u001b[0m in \u001b[0;36madd\u001b[0;34m(a, b)\u001b[0m\n",
      "\u001b[0;32m~/.local/share/virtualenvs/Meetup-Python-CZjbcmMe/lib/python3.6/site-packages/contracts/main.py\u001b[0m in \u001b[0;36mcontracts_checker\u001b[0;34m(unused, *args, **kwargs)\u001b[0m\n\u001b[1;32m    265\u001b[0m                            % (arg, get_nice_function_display()))\n\u001b[1;32m    266\u001b[0m                     \u001b[0me\u001b[0m\u001b[0;34m.\u001b[0m\u001b[0merror\u001b[0m \u001b[0;34m=\u001b[0m \u001b[0mmsg\u001b[0m \u001b[0;34m+\u001b[0m \u001b[0me\u001b[0m\u001b[0;34m.\u001b[0m\u001b[0merror\u001b[0m\u001b[0;34m\u001b[0m\u001b[0m\n\u001b[0;32m--> 267\u001b[0;31m                     \u001b[0;32mraise\u001b[0m \u001b[0me\u001b[0m\u001b[0;34m\u001b[0m\u001b[0m\n\u001b[0m\u001b[1;32m    268\u001b[0m \u001b[0;34m\u001b[0m\u001b[0m\n\u001b[1;32m    269\u001b[0m         \u001b[0mresult\u001b[0m \u001b[0;34m=\u001b[0m \u001b[0mfunction_\u001b[0m\u001b[0;34m(\u001b[0m\u001b[0;34m*\u001b[0m\u001b[0margs\u001b[0m\u001b[0;34m,\u001b[0m \u001b[0;34m**\u001b[0m\u001b[0mkwargs\u001b[0m\u001b[0;34m)\u001b[0m\u001b[0;34m\u001b[0m\u001b[0m\n",
      "\u001b[0;32m~/.local/share/virtualenvs/Meetup-Python-CZjbcmMe/lib/python3.6/site-packages/contracts/main.py\u001b[0m in \u001b[0;36mcontracts_checker\u001b[0;34m(unused, *args, **kwargs)\u001b[0m\n\u001b[1;32m    260\u001b[0m             \u001b[0;32mif\u001b[0m \u001b[0marg\u001b[0m \u001b[0;32min\u001b[0m \u001b[0maccepts_parsed\u001b[0m\u001b[0;34m:\u001b[0m\u001b[0;34m\u001b[0m\u001b[0m\n\u001b[1;32m    261\u001b[0m                 \u001b[0;32mtry\u001b[0m\u001b[0;34m:\u001b[0m\u001b[0;34m\u001b[0m\u001b[0m\n\u001b[0;32m--> 262\u001b[0;31m                     \u001b[0maccepts_parsed\u001b[0m\u001b[0;34m[\u001b[0m\u001b[0marg\u001b[0m\u001b[0;34m]\u001b[0m\u001b[0;34m.\u001b[0m\u001b[0m_check_contract\u001b[0m\u001b[0;34m(\u001b[0m\u001b[0mcontext\u001b[0m\u001b[0;34m,\u001b[0m \u001b[0mbound\u001b[0m\u001b[0;34m[\u001b[0m\u001b[0marg\u001b[0m\u001b[0;34m]\u001b[0m\u001b[0;34m,\u001b[0m \u001b[0msilent\u001b[0m\u001b[0;34m=\u001b[0m\u001b[0;32mFalse\u001b[0m\u001b[0;34m)\u001b[0m\u001b[0;34m\u001b[0m\u001b[0m\n\u001b[0m\u001b[1;32m    263\u001b[0m                 \u001b[0;32mexcept\u001b[0m \u001b[0mContractNotRespected\u001b[0m \u001b[0;32mas\u001b[0m \u001b[0me\u001b[0m\u001b[0;34m:\u001b[0m\u001b[0;34m\u001b[0m\u001b[0m\n\u001b[1;32m    264\u001b[0m                     msg = ('Breach for argument %r to %s.\\n'\n",
      "\u001b[0;32m~/.local/share/virtualenvs/Meetup-Python-CZjbcmMe/lib/python3.6/site-packages/contracts/interface.py\u001b[0m in \u001b[0;36m_check_contract\u001b[0;34m(self, context, value, silent)\u001b[0m\n\u001b[1;32m    449\u001b[0m         \u001b[0mvariables\u001b[0m \u001b[0;34m=\u001b[0m \u001b[0mcontext\u001b[0m\u001b[0;34m.\u001b[0m\u001b[0mcopy\u001b[0m\u001b[0;34m(\u001b[0m\u001b[0;34m)\u001b[0m\u001b[0;34m\u001b[0m\u001b[0m\n\u001b[1;32m    450\u001b[0m         \u001b[0;32mtry\u001b[0m\u001b[0;34m:\u001b[0m\u001b[0;34m\u001b[0m\u001b[0m\n\u001b[0;32m--> 451\u001b[0;31m             \u001b[0mself\u001b[0m\u001b[0;34m.\u001b[0m\u001b[0mcheck_contract\u001b[0m\u001b[0;34m(\u001b[0m\u001b[0mcontext\u001b[0m\u001b[0;34m,\u001b[0m \u001b[0mvalue\u001b[0m\u001b[0;34m,\u001b[0m \u001b[0msilent\u001b[0m\u001b[0;34m)\u001b[0m\u001b[0;34m\u001b[0m\u001b[0m\n\u001b[0m\u001b[1;32m    452\u001b[0m         \u001b[0;32mexcept\u001b[0m \u001b[0mContractNotRespected\u001b[0m \u001b[0;32mas\u001b[0m \u001b[0me\u001b[0m\u001b[0;34m:\u001b[0m\u001b[0;34m\u001b[0m\u001b[0m\n\u001b[1;32m    453\u001b[0m             \u001b[0me\u001b[0m\u001b[0;34m.\u001b[0m\u001b[0mstack\u001b[0m\u001b[0;34m.\u001b[0m\u001b[0mappend\u001b[0m\u001b[0;34m(\u001b[0m\u001b[0;34m(\u001b[0m\u001b[0mself\u001b[0m\u001b[0;34m,\u001b[0m \u001b[0mvariables\u001b[0m\u001b[0;34m,\u001b[0m \u001b[0mvalue\u001b[0m\u001b[0;34m)\u001b[0m\u001b[0;34m)\u001b[0m\u001b[0;34m\u001b[0m\u001b[0m\n",
      "\u001b[0;32m~/.local/share/virtualenvs/Meetup-Python-CZjbcmMe/lib/python3.6/site-packages/contracts/library/compositions.py\u001b[0m in \u001b[0;36mcheck_contract\u001b[0;34m(self, context, value, silent)\u001b[0m\n\u001b[1;32m    121\u001b[0m     \u001b[0;32mdef\u001b[0m \u001b[0mcheck_contract\u001b[0m\u001b[0;34m(\u001b[0m\u001b[0mself\u001b[0m\u001b[0;34m,\u001b[0m \u001b[0mcontext\u001b[0m\u001b[0;34m,\u001b[0m \u001b[0mvalue\u001b[0m\u001b[0;34m,\u001b[0m \u001b[0msilent\u001b[0m\u001b[0;34m)\u001b[0m\u001b[0;34m:\u001b[0m\u001b[0;34m\u001b[0m\u001b[0m\n\u001b[1;32m    122\u001b[0m         \u001b[0;32mfor\u001b[0m \u001b[0mc\u001b[0m \u001b[0;32min\u001b[0m \u001b[0mself\u001b[0m\u001b[0;34m.\u001b[0m\u001b[0mclauses\u001b[0m\u001b[0;34m:\u001b[0m\u001b[0;34m\u001b[0m\u001b[0m\n\u001b[0;32m--> 123\u001b[0;31m             \u001b[0mc\u001b[0m\u001b[0;34m.\u001b[0m\u001b[0m_check_contract\u001b[0m\u001b[0;34m(\u001b[0m\u001b[0mcontext\u001b[0m\u001b[0;34m,\u001b[0m \u001b[0mvalue\u001b[0m\u001b[0;34m,\u001b[0m \u001b[0msilent\u001b[0m\u001b[0;34m)\u001b[0m\u001b[0;34m\u001b[0m\u001b[0m\n\u001b[0m\u001b[1;32m    124\u001b[0m \u001b[0;34m\u001b[0m\u001b[0m\n\u001b[1;32m    125\u001b[0m     \u001b[0;32mdef\u001b[0m \u001b[0m__repr__\u001b[0m\u001b[0;34m(\u001b[0m\u001b[0mself\u001b[0m\u001b[0;34m)\u001b[0m\u001b[0;34m:\u001b[0m\u001b[0;34m\u001b[0m\u001b[0m\n",
      "\u001b[0;32m~/.local/share/virtualenvs/Meetup-Python-CZjbcmMe/lib/python3.6/site-packages/contracts/interface.py\u001b[0m in \u001b[0;36m_check_contract\u001b[0;34m(self, context, value, silent)\u001b[0m\n\u001b[1;32m    449\u001b[0m         \u001b[0mvariables\u001b[0m \u001b[0;34m=\u001b[0m \u001b[0mcontext\u001b[0m\u001b[0;34m.\u001b[0m\u001b[0mcopy\u001b[0m\u001b[0;34m(\u001b[0m\u001b[0;34m)\u001b[0m\u001b[0;34m\u001b[0m\u001b[0m\n\u001b[1;32m    450\u001b[0m         \u001b[0;32mtry\u001b[0m\u001b[0;34m:\u001b[0m\u001b[0;34m\u001b[0m\u001b[0m\n\u001b[0;32m--> 451\u001b[0;31m             \u001b[0mself\u001b[0m\u001b[0;34m.\u001b[0m\u001b[0mcheck_contract\u001b[0m\u001b[0;34m(\u001b[0m\u001b[0mcontext\u001b[0m\u001b[0;34m,\u001b[0m \u001b[0mvalue\u001b[0m\u001b[0;34m,\u001b[0m \u001b[0msilent\u001b[0m\u001b[0;34m)\u001b[0m\u001b[0;34m\u001b[0m\u001b[0m\n\u001b[0m\u001b[1;32m    452\u001b[0m         \u001b[0;32mexcept\u001b[0m \u001b[0mContractNotRespected\u001b[0m \u001b[0;32mas\u001b[0m \u001b[0me\u001b[0m\u001b[0;34m:\u001b[0m\u001b[0;34m\u001b[0m\u001b[0m\n\u001b[1;32m    453\u001b[0m             \u001b[0me\u001b[0m\u001b[0;34m.\u001b[0m\u001b[0mstack\u001b[0m\u001b[0;34m.\u001b[0m\u001b[0mappend\u001b[0m\u001b[0;34m(\u001b[0m\u001b[0;34m(\u001b[0m\u001b[0mself\u001b[0m\u001b[0;34m,\u001b[0m \u001b[0mvariables\u001b[0m\u001b[0;34m,\u001b[0m \u001b[0mvalue\u001b[0m\u001b[0;34m)\u001b[0m\u001b[0;34m)\u001b[0m\u001b[0;34m\u001b[0m\u001b[0m\n",
      "\u001b[0;32m~/.local/share/virtualenvs/Meetup-Python-CZjbcmMe/lib/python3.6/site-packages/contracts/library/comparison.py\u001b[0m in \u001b[0;36mcheck_contract\u001b[0;34m(self, context, value, silent)\u001b[0m\n\u001b[1;32m     85\u001b[0m \u001b[0;34m\u001b[0m\u001b[0m\n\u001b[1;32m     86\u001b[0m             raise ContractNotRespected(contract=self, error=error,\n\u001b[0;32m---> 87\u001b[0;31m                                        value=value, context=context)\n\u001b[0m\u001b[1;32m     88\u001b[0m \u001b[0;34m\u001b[0m\u001b[0m\n\u001b[1;32m     89\u001b[0m     \u001b[0;32mdef\u001b[0m \u001b[0m__str__\u001b[0m\u001b[0;34m(\u001b[0m\u001b[0mself\u001b[0m\u001b[0;34m)\u001b[0m\u001b[0;34m:\u001b[0m\u001b[0;34m\u001b[0m\u001b[0m\n",
      "\u001b[0;31mContractNotRespected\u001b[0m: Breach for argument 'b' to add().\nCondition -5 > 0 not respected\nchecking: >0       for value: Instance of <class 'int'>: -5   \nchecking: int,>0   for value: Instance of <class 'int'>: -5   \nVariables bound in inner context:\n"
     ]
    }
   ],
   "source": [
    "add(2, -5)"
   ]
  },
  {
   "cell_type": "code",
   "execution_count": 17,
   "metadata": {},
   "outputs": [
    {
     "ename": "ContractNotRespected",
     "evalue": "Breach for argument 'a' to add().\nCould not satisfy any of the 3 clauses in Int|np_scalar_int|np_scalar,array(int).\n ---- Clause #1:   Int\n | Expected type 'int', got <class 'str'>.\n | checking: Int   for value: Instance of <class 'str'>: 'bonjour'   \n | Variables bound in inner context:\n | \n ---- Clause #2:   np_scalar_int\n | Could not satisfy any of the 4 clauses in np_int8|np_int16|np_int32|np_int64.\n |  ---- Clause #1:   np_int8\n |  | Expected type 'int8', got <class 'str'>.\n |  | checking: np_int8   for value: Instance of <class 'str'>: 'bonjour'   \n |  | Variables bound in inner context:\n |  | \n |  ---- Clause #2:   np_int16\n |  | Expected type 'int16', got <class 'str'>.\n |  | checking: np_int16   for value: Instance of <class 'str'>: 'bonjour'   \n |  | Variables bound in inner context:\n |  | \n |  ---- Clause #3:   np_int32\n |  | Expected type 'int32', got <class 'str'>.\n |  | checking: np_int32   for value: Instance of <class 'str'>: 'bonjour'   \n |  | Variables bound in inner context:\n |  | \n |  ---- Clause #4:   np_int64\n |  | Expected type 'int64', got <class 'str'>.\n |  | checking: np_int64   for value: Instance of <class 'str'>: 'bonjour'   \n |  | Variables bound in inner context:\n |  | \n |  ------- (end clauses) -------\n | checking: np_int8|np_int16|np_int32|np_int64      for value: Instance of <class 'str'>: 'bonjour'   \n | checking: $(np_int8|np_int16|np_int32|np_int64)   for value: Instance of <class 'str'>: 'bonjour'   \n | checking: np_scalar_int                           for value: Instance of <class 'str'>: 'bonjour'   \n | Variables bound in inner context:\n | \n ---- Clause #3:   np_scalar,array(int)\n | Could not satisfy any of the 2 clauses in np_zeroshape_array|np_scalar_type.\n |  ---- Clause #1:   np_zeroshape_array\n |  | Not an array: <class 'str'> <class 'str'> \n |  | checking: callable()           for value: Instance of <class 'str'>: 'bonjour'   \n |  | checking: np_zeroshape_array   for value: Instance of <class 'str'>: 'bonjour'   \n |  | Variables bound in inner context:\n |  | \n |  ---- Clause #2:   np_scalar_type\n |  | Could not satisfy any of the 3 clauses in np_scalar_int|np_scalar_uint|np_scalar_float.\n |  |  ---- Clause #1:   np_scalar_int\n |  |  | Could not satisfy any of the 4 clauses in np_int8|np_int16|np_int32|np_int64.\n |  |  |  ---- Clause #1:   np_int8\n |  |  |  | Expected type 'int8', got <class 'str'>.\n |  |  |  | checking: np_int8   for value: Instance of <class 'str'>: 'bonjour'   \n |  |  |  | Variables bound in inner context:\n |  |  |  | \n |  |  |  ---- Clause #2:   np_int16\n |  |  |  | Expected type 'int16', got <class 'str'>.\n |  |  |  | checking: np_int16   for value: Instance of <class 'str'>: 'bonjour'   \n |  |  |  | Variables bound in inner context:\n |  |  |  | \n |  |  |  ---- Clause #3:   np_int32\n |  |  |  | Expected type 'int32', got <class 'str'>.\n |  |  |  | checking: np_int32   for value: Instance of <class 'str'>: 'bonjour'   \n |  |  |  | Variables bound in inner context:\n |  |  |  | \n |  |  |  ---- Clause #4:   np_int64\n |  |  |  | Expected type 'int64', got <class 'str'>.\n |  |  |  | checking: np_int64   for value: Instance of <class 'str'>: 'bonjour'   \n |  |  |  | Variables bound in inner context:\n |  |  |  | \n |  |  |  ------- (end clauses) -------\n |  |  | checking: np_int8|np_int16|np_int32|np_int64      for value: Instance of <class 'str'>: 'bonjour'   \n |  |  | checking: $(np_int8|np_int16|np_int32|np_int64)   for value: Instance of <class 'str'>: 'bonjour'   \n |  |  | checking: np_scalar_int                           for value: Instance of <class 'str'>: 'bonjour'   \n |  |  | Variables bound in inner context:\n |  |  | \n |  |  ---- Clause #2:   np_scalar_uint\n |  |  | Could not satisfy any of the 4 clauses in np_uint8|np_uint16|np_uint32|np_uint64.\n |  |  |  ---- Clause #1:   np_uint8\n |  |  |  | Expected type 'uint8', got <class 'str'>.\n |  |  |  | checking: np_uint8   for value: Instance of <class 'str'>: 'bonjour'   \n |  |  |  | Variables bound in inner context:\n |  |  |  | \n |  |  |  ---- Clause #2:   np_uint16\n |  |  |  | Expected type 'uint16', got <class 'str'>.\n |  |  |  | checking: np_uint16   for value: Instance of <class 'str'>: 'bonjour'   \n |  |  |  | Variables bound in inner context:\n |  |  |  | \n |  |  |  ---- Clause #3:   np_uint32\n |  |  |  | Expected type 'uint32', got <class 'str'>.\n |  |  |  | checking: np_uint32   for value: Instance of <class 'str'>: 'bonjour'   \n |  |  |  | Variables bound in inner context:\n |  |  |  | \n |  |  |  ---- Clause #4:   np_uint64\n |  |  |  | Expected type 'uint64', got <class 'str'>.\n |  |  |  | checking: np_uint64   for value: Instance of <class 'str'>: 'bonjour'   \n |  |  |  | Variables bound in inner context:\n |  |  |  | \n |  |  |  ------- (end clauses) -------\n |  |  | checking: np_uint8|np_uint16|np_uint32|np_uint64      for value: Instance of <class 'str'>: 'bonjour'   \n |  |  | checking: $(np_uint8|np_uint16|np_uint32|np_uint64)   for value: Instance of <class 'str'>: 'bonjour'   \n |  |  | checking: np_scalar_uint                              for value: Instance of <class 'str'>: 'bonjour'   \n |  |  | Variables bound in inner context:\n |  |  | \n |  |  ---- Clause #3:   np_scalar_float\n |  |  | Could not satisfy any of the 2 clauses in np_float32|np_float64.\n |  |  |  ---- Clause #1:   np_float32\n |  |  |  | Expected type 'float32', got <class 'str'>.\n |  |  |  | checking: np_float32   for value: Instance of <class 'str'>: 'bonjour'   \n |  |  |  | Variables bound in inner context:\n |  |  |  | \n |  |  |  ---- Clause #2:   np_float64\n |  |  |  | Expected type 'float64', got <class 'str'>.\n |  |  |  | checking: np_float64   for value: Instance of <class 'str'>: 'bonjour'   \n |  |  |  | Variables bound in inner context:\n |  |  |  | \n |  |  |  ------- (end clauses) -------\n |  |  | checking: np_float32|np_float64      for value: Instance of <class 'str'>: 'bonjour'   \n |  |  | checking: $(np_float32|np_float64)   for value: Instance of <class 'str'>: 'bonjour'   \n |  |  | checking: np_scalar_float            for value: Instance of <class 'str'>: 'bonjour'   \n |  |  | Variables bound in inner context:\n |  |  | \n |  |  ------- (end clauses) -------\n |  | checking: np_scalar_int|np_scalar_uint|np_scalar_float      for value: Instance of <class 'str'>: 'bonjour'   \n |  | checking: $(np_scalar_int|np_scalar_uint|np_scalar_float)   for value: Instance of <class 'str'>: 'bonjour'   \n |  | checking: np_scalar_type                                    for value: Instance of <class 'str'>: 'bonjour'   \n |  | Variables bound in inner context:\n |  | \n |  ------- (end clauses) -------\n | checking: np_zeroshape_array|np_scalar_type      for value: Instance of <class 'str'>: 'bonjour'   \n | checking: $(np_zeroshape_array|np_scalar_type)   for value: Instance of <class 'str'>: 'bonjour'   \n | checking: np_scalar                              for value: Instance of <class 'str'>: 'bonjour'   \n | checking: np_scalar,array(int)                   for value: Instance of <class 'str'>: 'bonjour'   \n | Variables bound in inner context:\n | \n ------- (end clauses) -------\nchecking: Int|np_scalar_int|np_scalar,array(int)      for value: Instance of <class 'str'>: 'bonjour'   \nchecking: $(Int|np_scalar_int|np_scalar,array(int))   for value: Instance of <class 'str'>: 'bonjour'   \nchecking: int                                         for value: Instance of <class 'str'>: 'bonjour'   \nVariables bound in inner context:\n",
     "output_type": "error",
     "traceback": [
      "\u001b[0;31m---------------------------------------------------------------------------\u001b[0m",
      "\u001b[0;31mContractNotRespected\u001b[0m                      Traceback (most recent call last)",
      "\u001b[0;32m<ipython-input-17-5fb5d446f8a6>\u001b[0m in \u001b[0;36m<module>\u001b[0;34m\u001b[0m\n\u001b[0;32m----> 1\u001b[0;31m \u001b[0madd\u001b[0m\u001b[0;34m(\u001b[0m\u001b[0;34m\"bonjour\"\u001b[0m\u001b[0;34m,\u001b[0m \u001b[0;34m\"le monde\"\u001b[0m\u001b[0;34m)\u001b[0m\u001b[0;34m\u001b[0m\u001b[0m\n\u001b[0m",
      "\u001b[0;32m<decorator-gen-125>\u001b[0m in \u001b[0;36madd\u001b[0;34m(a, b)\u001b[0m\n",
      "\u001b[0;32m~/.local/share/virtualenvs/Meetup-Python-CZjbcmMe/lib/python3.6/site-packages/contracts/main.py\u001b[0m in \u001b[0;36mcontracts_checker\u001b[0;34m(unused, *args, **kwargs)\u001b[0m\n\u001b[1;32m    265\u001b[0m                            % (arg, get_nice_function_display()))\n\u001b[1;32m    266\u001b[0m                     \u001b[0me\u001b[0m\u001b[0;34m.\u001b[0m\u001b[0merror\u001b[0m \u001b[0;34m=\u001b[0m \u001b[0mmsg\u001b[0m \u001b[0;34m+\u001b[0m \u001b[0me\u001b[0m\u001b[0;34m.\u001b[0m\u001b[0merror\u001b[0m\u001b[0;34m\u001b[0m\u001b[0m\n\u001b[0;32m--> 267\u001b[0;31m                     \u001b[0;32mraise\u001b[0m \u001b[0me\u001b[0m\u001b[0;34m\u001b[0m\u001b[0m\n\u001b[0m\u001b[1;32m    268\u001b[0m \u001b[0;34m\u001b[0m\u001b[0m\n\u001b[1;32m    269\u001b[0m         \u001b[0mresult\u001b[0m \u001b[0;34m=\u001b[0m \u001b[0mfunction_\u001b[0m\u001b[0;34m(\u001b[0m\u001b[0;34m*\u001b[0m\u001b[0margs\u001b[0m\u001b[0;34m,\u001b[0m \u001b[0;34m**\u001b[0m\u001b[0mkwargs\u001b[0m\u001b[0;34m)\u001b[0m\u001b[0;34m\u001b[0m\u001b[0m\n",
      "\u001b[0;32m~/.local/share/virtualenvs/Meetup-Python-CZjbcmMe/lib/python3.6/site-packages/contracts/main.py\u001b[0m in \u001b[0;36mcontracts_checker\u001b[0;34m(unused, *args, **kwargs)\u001b[0m\n\u001b[1;32m    260\u001b[0m             \u001b[0;32mif\u001b[0m \u001b[0marg\u001b[0m \u001b[0;32min\u001b[0m \u001b[0maccepts_parsed\u001b[0m\u001b[0;34m:\u001b[0m\u001b[0;34m\u001b[0m\u001b[0m\n\u001b[1;32m    261\u001b[0m                 \u001b[0;32mtry\u001b[0m\u001b[0;34m:\u001b[0m\u001b[0;34m\u001b[0m\u001b[0m\n\u001b[0;32m--> 262\u001b[0;31m                     \u001b[0maccepts_parsed\u001b[0m\u001b[0;34m[\u001b[0m\u001b[0marg\u001b[0m\u001b[0;34m]\u001b[0m\u001b[0;34m.\u001b[0m\u001b[0m_check_contract\u001b[0m\u001b[0;34m(\u001b[0m\u001b[0mcontext\u001b[0m\u001b[0;34m,\u001b[0m \u001b[0mbound\u001b[0m\u001b[0;34m[\u001b[0m\u001b[0marg\u001b[0m\u001b[0;34m]\u001b[0m\u001b[0;34m,\u001b[0m \u001b[0msilent\u001b[0m\u001b[0;34m=\u001b[0m\u001b[0;32mFalse\u001b[0m\u001b[0;34m)\u001b[0m\u001b[0;34m\u001b[0m\u001b[0m\n\u001b[0m\u001b[1;32m    263\u001b[0m                 \u001b[0;32mexcept\u001b[0m \u001b[0mContractNotRespected\u001b[0m \u001b[0;32mas\u001b[0m \u001b[0me\u001b[0m\u001b[0;34m:\u001b[0m\u001b[0;34m\u001b[0m\u001b[0m\n\u001b[1;32m    264\u001b[0m                     msg = ('Breach for argument %r to %s.\\n'\n",
      "\u001b[0;32m~/.local/share/virtualenvs/Meetup-Python-CZjbcmMe/lib/python3.6/site-packages/contracts/interface.py\u001b[0m in \u001b[0;36m_check_contract\u001b[0;34m(self, context, value, silent)\u001b[0m\n\u001b[1;32m    449\u001b[0m         \u001b[0mvariables\u001b[0m \u001b[0;34m=\u001b[0m \u001b[0mcontext\u001b[0m\u001b[0;34m.\u001b[0m\u001b[0mcopy\u001b[0m\u001b[0;34m(\u001b[0m\u001b[0;34m)\u001b[0m\u001b[0;34m\u001b[0m\u001b[0m\n\u001b[1;32m    450\u001b[0m         \u001b[0;32mtry\u001b[0m\u001b[0;34m:\u001b[0m\u001b[0;34m\u001b[0m\u001b[0m\n\u001b[0;32m--> 451\u001b[0;31m             \u001b[0mself\u001b[0m\u001b[0;34m.\u001b[0m\u001b[0mcheck_contract\u001b[0m\u001b[0;34m(\u001b[0m\u001b[0mcontext\u001b[0m\u001b[0;34m,\u001b[0m \u001b[0mvalue\u001b[0m\u001b[0;34m,\u001b[0m \u001b[0msilent\u001b[0m\u001b[0;34m)\u001b[0m\u001b[0;34m\u001b[0m\u001b[0m\n\u001b[0m\u001b[1;32m    452\u001b[0m         \u001b[0;32mexcept\u001b[0m \u001b[0mContractNotRespected\u001b[0m \u001b[0;32mas\u001b[0m \u001b[0me\u001b[0m\u001b[0;34m:\u001b[0m\u001b[0;34m\u001b[0m\u001b[0m\n\u001b[1;32m    453\u001b[0m             \u001b[0me\u001b[0m\u001b[0;34m.\u001b[0m\u001b[0mstack\u001b[0m\u001b[0;34m.\u001b[0m\u001b[0mappend\u001b[0m\u001b[0;34m(\u001b[0m\u001b[0;34m(\u001b[0m\u001b[0mself\u001b[0m\u001b[0;34m,\u001b[0m \u001b[0mvariables\u001b[0m\u001b[0;34m,\u001b[0m \u001b[0mvalue\u001b[0m\u001b[0;34m)\u001b[0m\u001b[0;34m)\u001b[0m\u001b[0;34m\u001b[0m\u001b[0m\n",
      "\u001b[0;32m~/.local/share/virtualenvs/Meetup-Python-CZjbcmMe/lib/python3.6/site-packages/contracts/library/extensions.py\u001b[0m in \u001b[0;36mcheck_contract\u001b[0;34m(self, context, value, silent)\u001b[0m\n\u001b[1;32m     46\u001b[0m                                  k, v in self.kwargs.items())\n\u001b[1;32m     47\u001b[0m \u001b[0;34m\u001b[0m\u001b[0m\n\u001b[0;32m---> 48\u001b[0;31m         \u001b[0mself\u001b[0m\u001b[0;34m.\u001b[0m\u001b[0mcontract\u001b[0m\u001b[0;34m.\u001b[0m\u001b[0m_check_contract\u001b[0m\u001b[0;34m(\u001b[0m\u001b[0mcontext\u001b[0m\u001b[0;34m,\u001b[0m \u001b[0mvalue\u001b[0m\u001b[0;34m,\u001b[0m \u001b[0msilent\u001b[0m\u001b[0;34m)\u001b[0m\u001b[0;34m\u001b[0m\u001b[0m\n\u001b[0m\u001b[1;32m     49\u001b[0m \u001b[0;34m\u001b[0m\u001b[0m\n\u001b[1;32m     50\u001b[0m     \u001b[0;34m@\u001b[0m\u001b[0mstaticmethod\u001b[0m\u001b[0;34m\u001b[0m\u001b[0m\n",
      "\u001b[0;32m~/.local/share/virtualenvs/Meetup-Python-CZjbcmMe/lib/python3.6/site-packages/contracts/interface.py\u001b[0m in \u001b[0;36m_check_contract\u001b[0;34m(self, context, value, silent)\u001b[0m\n\u001b[1;32m    449\u001b[0m         \u001b[0mvariables\u001b[0m \u001b[0;34m=\u001b[0m \u001b[0mcontext\u001b[0m\u001b[0;34m.\u001b[0m\u001b[0mcopy\u001b[0m\u001b[0;34m(\u001b[0m\u001b[0;34m)\u001b[0m\u001b[0;34m\u001b[0m\u001b[0m\n\u001b[1;32m    450\u001b[0m         \u001b[0;32mtry\u001b[0m\u001b[0;34m:\u001b[0m\u001b[0;34m\u001b[0m\u001b[0m\n\u001b[0;32m--> 451\u001b[0;31m             \u001b[0mself\u001b[0m\u001b[0;34m.\u001b[0m\u001b[0mcheck_contract\u001b[0m\u001b[0;34m(\u001b[0m\u001b[0mcontext\u001b[0m\u001b[0;34m,\u001b[0m \u001b[0mvalue\u001b[0m\u001b[0;34m,\u001b[0m \u001b[0msilent\u001b[0m\u001b[0;34m)\u001b[0m\u001b[0;34m\u001b[0m\u001b[0m\n\u001b[0m\u001b[1;32m    452\u001b[0m         \u001b[0;32mexcept\u001b[0m \u001b[0mContractNotRespected\u001b[0m \u001b[0;32mas\u001b[0m \u001b[0me\u001b[0m\u001b[0;34m:\u001b[0m\u001b[0;34m\u001b[0m\u001b[0m\n\u001b[1;32m    453\u001b[0m             \u001b[0me\u001b[0m\u001b[0;34m.\u001b[0m\u001b[0mstack\u001b[0m\u001b[0;34m.\u001b[0m\u001b[0mappend\u001b[0m\u001b[0;34m(\u001b[0m\u001b[0;34m(\u001b[0m\u001b[0mself\u001b[0m\u001b[0;34m,\u001b[0m \u001b[0mvariables\u001b[0m\u001b[0;34m,\u001b[0m \u001b[0mvalue\u001b[0m\u001b[0;34m)\u001b[0m\u001b[0;34m)\u001b[0m\u001b[0;34m\u001b[0m\u001b[0m\n",
      "\u001b[0;32m~/.local/share/virtualenvs/Meetup-Python-CZjbcmMe/lib/python3.6/site-packages/contracts/library/separate_context.py\u001b[0m in \u001b[0;36mcheck_contract\u001b[0;34m(self, context, value, silent)\u001b[0m\n\u001b[1;32m     12\u001b[0m     \u001b[0;32mdef\u001b[0m \u001b[0mcheck_contract\u001b[0m\u001b[0;34m(\u001b[0m\u001b[0mself\u001b[0m\u001b[0;34m,\u001b[0m \u001b[0mcontext\u001b[0m\u001b[0;34m,\u001b[0m \u001b[0mvalue\u001b[0m\u001b[0;34m,\u001b[0m \u001b[0msilent\u001b[0m\u001b[0;34m)\u001b[0m\u001b[0;34m:\u001b[0m\u001b[0;34m\u001b[0m\u001b[0m\n\u001b[1;32m     13\u001b[0m         \u001b[0mcopy\u001b[0m \u001b[0;34m=\u001b[0m \u001b[0mcontext\u001b[0m\u001b[0;34m.\u001b[0m\u001b[0mcopy\u001b[0m\u001b[0;34m(\u001b[0m\u001b[0;34m)\u001b[0m\u001b[0;34m\u001b[0m\u001b[0m\n\u001b[0;32m---> 14\u001b[0;31m         \u001b[0mself\u001b[0m\u001b[0;34m.\u001b[0m\u001b[0mcontract\u001b[0m\u001b[0;34m.\u001b[0m\u001b[0m_check_contract\u001b[0m\u001b[0;34m(\u001b[0m\u001b[0mcopy\u001b[0m\u001b[0;34m,\u001b[0m \u001b[0mvalue\u001b[0m\u001b[0;34m,\u001b[0m \u001b[0msilent\u001b[0m\u001b[0;34m)\u001b[0m\u001b[0;34m\u001b[0m\u001b[0m\n\u001b[0m\u001b[1;32m     15\u001b[0m \u001b[0;34m\u001b[0m\u001b[0m\n\u001b[1;32m     16\u001b[0m     \u001b[0;32mdef\u001b[0m \u001b[0m__str__\u001b[0m\u001b[0;34m(\u001b[0m\u001b[0mself\u001b[0m\u001b[0;34m)\u001b[0m\u001b[0;34m:\u001b[0m\u001b[0;34m\u001b[0m\u001b[0m\n",
      "\u001b[0;32m~/.local/share/virtualenvs/Meetup-Python-CZjbcmMe/lib/python3.6/site-packages/contracts/interface.py\u001b[0m in \u001b[0;36m_check_contract\u001b[0;34m(self, context, value, silent)\u001b[0m\n\u001b[1;32m    449\u001b[0m         \u001b[0mvariables\u001b[0m \u001b[0;34m=\u001b[0m \u001b[0mcontext\u001b[0m\u001b[0;34m.\u001b[0m\u001b[0mcopy\u001b[0m\u001b[0;34m(\u001b[0m\u001b[0;34m)\u001b[0m\u001b[0;34m\u001b[0m\u001b[0m\n\u001b[1;32m    450\u001b[0m         \u001b[0;32mtry\u001b[0m\u001b[0;34m:\u001b[0m\u001b[0;34m\u001b[0m\u001b[0m\n\u001b[0;32m--> 451\u001b[0;31m             \u001b[0mself\u001b[0m\u001b[0;34m.\u001b[0m\u001b[0mcheck_contract\u001b[0m\u001b[0;34m(\u001b[0m\u001b[0mcontext\u001b[0m\u001b[0;34m,\u001b[0m \u001b[0mvalue\u001b[0m\u001b[0;34m,\u001b[0m \u001b[0msilent\u001b[0m\u001b[0;34m)\u001b[0m\u001b[0;34m\u001b[0m\u001b[0m\n\u001b[0m\u001b[1;32m    452\u001b[0m         \u001b[0;32mexcept\u001b[0m \u001b[0mContractNotRespected\u001b[0m \u001b[0;32mas\u001b[0m \u001b[0me\u001b[0m\u001b[0;34m:\u001b[0m\u001b[0;34m\u001b[0m\u001b[0m\n\u001b[1;32m    453\u001b[0m             \u001b[0me\u001b[0m\u001b[0;34m.\u001b[0m\u001b[0mstack\u001b[0m\u001b[0;34m.\u001b[0m\u001b[0mappend\u001b[0m\u001b[0;34m(\u001b[0m\u001b[0;34m(\u001b[0m\u001b[0mself\u001b[0m\u001b[0;34m,\u001b[0m \u001b[0mvariables\u001b[0m\u001b[0;34m,\u001b[0m \u001b[0mvalue\u001b[0m\u001b[0;34m)\u001b[0m\u001b[0;34m)\u001b[0m\u001b[0;34m\u001b[0m\u001b[0m\n",
      "\u001b[0;32m~/.local/share/virtualenvs/Meetup-Python-CZjbcmMe/lib/python3.6/site-packages/contracts/library/compositions.py\u001b[0m in \u001b[0;36mcheck_contract\u001b[0;34m(self, context, value, silent)\u001b[0m\n\u001b[1;32m     60\u001b[0m \u001b[0;34m\u001b[0m\u001b[0m\n\u001b[1;32m     61\u001b[0m             \u001b[0;31m# otherwise need to do it again with detailed error messages\u001b[0m\u001b[0;34m\u001b[0m\u001b[0;34m\u001b[0m\u001b[0m\n\u001b[0;32m---> 62\u001b[0;31m             \u001b[0mself\u001b[0m\u001b[0;34m.\u001b[0m\u001b[0mget_error\u001b[0m\u001b[0;34m(\u001b[0m\u001b[0morig\u001b[0m\u001b[0;34m,\u001b[0m \u001b[0mvalue\u001b[0m\u001b[0;34m)\u001b[0m\u001b[0;34m\u001b[0m\u001b[0m\n\u001b[0m\u001b[1;32m     63\u001b[0m \u001b[0;34m\u001b[0m\u001b[0m\n\u001b[1;32m     64\u001b[0m     \u001b[0;32mdef\u001b[0m \u001b[0mget_error\u001b[0m\u001b[0;34m(\u001b[0m\u001b[0mself\u001b[0m\u001b[0;34m,\u001b[0m \u001b[0mcontext\u001b[0m\u001b[0;34m,\u001b[0m \u001b[0mvalue\u001b[0m\u001b[0;34m)\u001b[0m\u001b[0;34m:\u001b[0m\u001b[0;34m\u001b[0m\u001b[0m\n",
      "\u001b[0;32m~/.local/share/virtualenvs/Meetup-Python-CZjbcmMe/lib/python3.6/site-packages/contracts/library/compositions.py\u001b[0m in \u001b[0;36mget_error\u001b[0;34m(self, context, value)\u001b[0m\n\u001b[1;32m     78\u001b[0m             \u001b[0mmsg\u001b[0m \u001b[0;34m=\u001b[0m \u001b[0mself\u001b[0m\u001b[0;34m.\u001b[0m\u001b[0m_format_exceptions\u001b[0m\u001b[0;34m(\u001b[0m\u001b[0mexceptions\u001b[0m\u001b[0;34m)\u001b[0m\u001b[0;34m\u001b[0m\u001b[0m\n\u001b[1;32m     79\u001b[0m             raise ContractNotRespected(contract=self, error=msg,\n\u001b[0;32m---> 80\u001b[0;31m                         value=value, context=context)\n\u001b[0m\u001b[1;32m     81\u001b[0m \u001b[0;34m\u001b[0m\u001b[0m\n\u001b[1;32m     82\u001b[0m \u001b[0;34m\u001b[0m\u001b[0m\n",
      "\u001b[0;31mContractNotRespected\u001b[0m: Breach for argument 'a' to add().\nCould not satisfy any of the 3 clauses in Int|np_scalar_int|np_scalar,array(int).\n ---- Clause #1:   Int\n | Expected type 'int', got <class 'str'>.\n | checking: Int   for value: Instance of <class 'str'>: 'bonjour'   \n | Variables bound in inner context:\n | \n ---- Clause #2:   np_scalar_int\n | Could not satisfy any of the 4 clauses in np_int8|np_int16|np_int32|np_int64.\n |  ---- Clause #1:   np_int8\n |  | Expected type 'int8', got <class 'str'>.\n |  | checking: np_int8   for value: Instance of <class 'str'>: 'bonjour'   \n |  | Variables bound in inner context:\n |  | \n |  ---- Clause #2:   np_int16\n |  | Expected type 'int16', got <class 'str'>.\n |  | checking: np_int16   for value: Instance of <class 'str'>: 'bonjour'   \n |  | Variables bound in inner context:\n |  | \n |  ---- Clause #3:   np_int32\n |  | Expected type 'int32', got <class 'str'>.\n |  | checking: np_int32   for value: Instance of <class 'str'>: 'bonjour'   \n |  | Variables bound in inner context:\n |  | \n |  ---- Clause #4:   np_int64\n |  | Expected type 'int64', got <class 'str'>.\n |  | checking: np_int64   for value: Instance of <class 'str'>: 'bonjour'   \n |  | Variables bound in inner context:\n |  | \n |  ------- (end clauses) -------\n | checking: np_int8|np_int16|np_int32|np_int64      for value: Instance of <class 'str'>: 'bonjour'   \n | checking: $(np_int8|np_int16|np_int32|np_int64)   for value: Instance of <class 'str'>: 'bonjour'   \n | checking: np_scalar_int                           for value: Instance of <class 'str'>: 'bonjour'   \n | Variables bound in inner context:\n | \n ---- Clause #3:   np_scalar,array(int)\n | Could not satisfy any of the 2 clauses in np_zeroshape_array|np_scalar_type.\n |  ---- Clause #1:   np_zeroshape_array\n |  | Not an array: <class 'str'> <class 'str'> \n |  | checking: callable()           for value: Instance of <class 'str'>: 'bonjour'   \n |  | checking: np_zeroshape_array   for value: Instance of <class 'str'>: 'bonjour'   \n |  | Variables bound in inner context:\n |  | \n |  ---- Clause #2:   np_scalar_type\n |  | Could not satisfy any of the 3 clauses in np_scalar_int|np_scalar_uint|np_scalar_float.\n |  |  ---- Clause #1:   np_scalar_int\n |  |  | Could not satisfy any of the 4 clauses in np_int8|np_int16|np_int32|np_int64.\n |  |  |  ---- Clause #1:   np_int8\n |  |  |  | Expected type 'int8', got <class 'str'>.\n |  |  |  | checking: np_int8   for value: Instance of <class 'str'>: 'bonjour'   \n |  |  |  | Variables bound in inner context:\n |  |  |  | \n |  |  |  ---- Clause #2:   np_int16\n |  |  |  | Expected type 'int16', got <class 'str'>.\n |  |  |  | checking: np_int16   for value: Instance of <class 'str'>: 'bonjour'   \n |  |  |  | Variables bound in inner context:\n |  |  |  | \n |  |  |  ---- Clause #3:   np_int32\n |  |  |  | Expected type 'int32', got <class 'str'>.\n |  |  |  | checking: np_int32   for value: Instance of <class 'str'>: 'bonjour'   \n |  |  |  | Variables bound in inner context:\n |  |  |  | \n |  |  |  ---- Clause #4:   np_int64\n |  |  |  | Expected type 'int64', got <class 'str'>.\n |  |  |  | checking: np_int64   for value: Instance of <class 'str'>: 'bonjour'   \n |  |  |  | Variables bound in inner context:\n |  |  |  | \n |  |  |  ------- (end clauses) -------\n |  |  | checking: np_int8|np_int16|np_int32|np_int64      for value: Instance of <class 'str'>: 'bonjour'   \n |  |  | checking: $(np_int8|np_int16|np_int32|np_int64)   for value: Instance of <class 'str'>: 'bonjour'   \n |  |  | checking: np_scalar_int                           for value: Instance of <class 'str'>: 'bonjour'   \n |  |  | Variables bound in inner context:\n |  |  | \n |  |  ---- Clause #2:   np_scalar_uint\n |  |  | Could not satisfy any of the 4 clauses in np_uint8|np_uint16|np_uint32|np_uint64.\n |  |  |  ---- Clause #1:   np_uint8\n |  |  |  | Expected type 'uint8', got <class 'str'>.\n |  |  |  | checking: np_uint8   for value: Instance of <class 'str'>: 'bonjour'   \n |  |  |  | Variables bound in inner context:\n |  |  |  | \n |  |  |  ---- Clause #2:   np_uint16\n |  |  |  | Expected type 'uint16', got <class 'str'>.\n |  |  |  | checking: np_uint16   for value: Instance of <class 'str'>: 'bonjour'   \n |  |  |  | Variables bound in inner context:\n |  |  |  | \n |  |  |  ---- Clause #3:   np_uint32\n |  |  |  | Expected type 'uint32', got <class 'str'>.\n |  |  |  | checking: np_uint32   for value: Instance of <class 'str'>: 'bonjour'   \n |  |  |  | Variables bound in inner context:\n |  |  |  | \n |  |  |  ---- Clause #4:   np_uint64\n |  |  |  | Expected type 'uint64', got <class 'str'>.\n |  |  |  | checking: np_uint64   for value: Instance of <class 'str'>: 'bonjour'   \n |  |  |  | Variables bound in inner context:\n |  |  |  | \n |  |  |  ------- (end clauses) -------\n |  |  | checking: np_uint8|np_uint16|np_uint32|np_uint64      for value: Instance of <class 'str'>: 'bonjour'   \n |  |  | checking: $(np_uint8|np_uint16|np_uint32|np_uint64)   for value: Instance of <class 'str'>: 'bonjour'   \n |  |  | checking: np_scalar_uint                              for value: Instance of <class 'str'>: 'bonjour'   \n |  |  | Variables bound in inner context:\n |  |  | \n |  |  ---- Clause #3:   np_scalar_float\n |  |  | Could not satisfy any of the 2 clauses in np_float32|np_float64.\n |  |  |  ---- Clause #1:   np_float32\n |  |  |  | Expected type 'float32', got <class 'str'>.\n |  |  |  | checking: np_float32   for value: Instance of <class 'str'>: 'bonjour'   \n |  |  |  | Variables bound in inner context:\n |  |  |  | \n |  |  |  ---- Clause #2:   np_float64\n |  |  |  | Expected type 'float64', got <class 'str'>.\n |  |  |  | checking: np_float64   for value: Instance of <class 'str'>: 'bonjour'   \n |  |  |  | Variables bound in inner context:\n |  |  |  | \n |  |  |  ------- (end clauses) -------\n |  |  | checking: np_float32|np_float64      for value: Instance of <class 'str'>: 'bonjour'   \n |  |  | checking: $(np_float32|np_float64)   for value: Instance of <class 'str'>: 'bonjour'   \n |  |  | checking: np_scalar_float            for value: Instance of <class 'str'>: 'bonjour'   \n |  |  | Variables bound in inner context:\n |  |  | \n |  |  ------- (end clauses) -------\n |  | checking: np_scalar_int|np_scalar_uint|np_scalar_float      for value: Instance of <class 'str'>: 'bonjour'   \n |  | checking: $(np_scalar_int|np_scalar_uint|np_scalar_float)   for value: Instance of <class 'str'>: 'bonjour'   \n |  | checking: np_scalar_type                                    for value: Instance of <class 'str'>: 'bonjour'   \n |  | Variables bound in inner context:\n |  | \n |  ------- (end clauses) -------\n | checking: np_zeroshape_array|np_scalar_type      for value: Instance of <class 'str'>: 'bonjour'   \n | checking: $(np_zeroshape_array|np_scalar_type)   for value: Instance of <class 'str'>: 'bonjour'   \n | checking: np_scalar                              for value: Instance of <class 'str'>: 'bonjour'   \n | checking: np_scalar,array(int)                   for value: Instance of <class 'str'>: 'bonjour'   \n | Variables bound in inner context:\n | \n ------- (end clauses) -------\nchecking: Int|np_scalar_int|np_scalar,array(int)      for value: Instance of <class 'str'>: 'bonjour'   \nchecking: $(Int|np_scalar_int|np_scalar,array(int))   for value: Instance of <class 'str'>: 'bonjour'   \nchecking: int                                         for value: Instance of <class 'str'>: 'bonjour'   \nVariables bound in inner context:\n"
     ]
    }
   ],
   "source": [
    "add(\"bonjour\", \"le monde\")"
   ]
  },
  {
   "cell_type": "markdown",
   "metadata": {},
   "source": [
    "## Pandas"
   ]
  },
  {
   "cell_type": "code",
   "execution_count": 18,
   "metadata": {},
   "outputs": [],
   "source": [
    "import pandas as pd"
   ]
  },
  {
   "cell_type": "markdown",
   "metadata": {},
   "source": [
    "Lorsque l'on traite des tableaux de données avec [Pandas](https://pandas.pydata.org), il arrive que les données qu'on reçoit en entrée ne soient pas du type attendu.\n",
    "\n",
    "Parfois, on peut remplacer une donnée manquante (`NaN`) par une valeur par défaut avec [fillna](https://pandas.pydata.org/pandas-docs/stable/generated/pandas.DataFrame.fillna.html).\n",
    "\n",
    "Parfois, on veut filtrer les lignes concernées, et ne garder que celles où telle colonne n'est pas vide.\n",
    "\n",
    "Par exemple, cherchons à récupérer les adresses e-mail des sénateurs :"
   ]
  },
  {
   "cell_type": "code",
   "execution_count": 19,
   "metadata": {},
   "outputs": [],
   "source": [
    "df = pd.read_csv(\n",
    "        \"https://data.senat.fr/data/senateurs/ODSEN_GENERAL.csv\",\n",
    "        sep=\",\",\n",
    "        encoding=\"cp1252\",\n",
    "        skiprows=range(18),\n",
    "    )"
   ]
  },
  {
   "cell_type": "code",
   "execution_count": 20,
   "metadata": {},
   "outputs": [
    {
     "data": {
      "text/plain": [
       "(1738, 16)"
      ]
     },
     "execution_count": 20,
     "metadata": {},
     "output_type": "execute_result"
    }
   ],
   "source": [
    "df.shape"
   ]
  },
  {
   "cell_type": "markdown",
   "metadata": {},
   "source": [
    "Conservons seulement les colonnes pertinentes :"
   ]
  },
  {
   "cell_type": "code",
   "execution_count": 21,
   "metadata": {},
   "outputs": [
    {
     "data": {
      "text/html": [
       "<div>\n",
       "<style scoped>\n",
       "    .dataframe tbody tr th:only-of-type {\n",
       "        vertical-align: middle;\n",
       "    }\n",
       "\n",
       "    .dataframe tbody tr th {\n",
       "        vertical-align: top;\n",
       "    }\n",
       "\n",
       "    .dataframe thead th {\n",
       "        text-align: right;\n",
       "    }\n",
       "</style>\n",
       "<table border=\"1\" class=\"dataframe\">\n",
       "  <thead>\n",
       "    <tr style=\"text-align: right;\">\n",
       "      <th></th>\n",
       "      <th>Prénom usuel</th>\n",
       "      <th>Nom usuel</th>\n",
       "      <th>Courrier électronique</th>\n",
       "    </tr>\n",
       "  </thead>\n",
       "  <tbody>\n",
       "    <tr>\n",
       "      <th>0</th>\n",
       "      <td>François</td>\n",
       "      <td>Abadie</td>\n",
       "      <td>Non public</td>\n",
       "    </tr>\n",
       "    <tr>\n",
       "      <th>1</th>\n",
       "      <td>Patrick</td>\n",
       "      <td>Abate</td>\n",
       "      <td>p.abate@senat.fr</td>\n",
       "    </tr>\n",
       "    <tr>\n",
       "      <th>2</th>\n",
       "      <td>Mohamed</td>\n",
       "      <td>Abdellatif</td>\n",
       "      <td>NaN</td>\n",
       "    </tr>\n",
       "    <tr>\n",
       "      <th>3</th>\n",
       "      <td>Nicolas</td>\n",
       "      <td>About</td>\n",
       "      <td>n.about@senat.fr</td>\n",
       "    </tr>\n",
       "    <tr>\n",
       "      <th>4</th>\n",
       "      <td>Youssef</td>\n",
       "      <td>Achour</td>\n",
       "      <td>NaN</td>\n",
       "    </tr>\n",
       "  </tbody>\n",
       "</table>\n",
       "</div>"
      ],
      "text/plain": [
       "  Prénom usuel   Nom usuel Courrier électronique\n",
       "0     François      Abadie            Non public\n",
       "1      Patrick       Abate      p.abate@senat.fr\n",
       "2      Mohamed  Abdellatif                   NaN\n",
       "3      Nicolas       About      n.about@senat.fr\n",
       "4      Youssef      Achour                   NaN"
      ]
     },
     "execution_count": 21,
     "metadata": {},
     "output_type": "execute_result"
    }
   ],
   "source": [
    "df = df[[\"Prénom usuel\", \"Nom usuel\", \"Courrier électronique\"]]\n",
    "df.head()"
   ]
  },
  {
   "cell_type": "markdown",
   "metadata": {},
   "source": [
    "On voit que certaines valeurs sont manquantes (`NaN`), on peut donc les filtrer :"
   ]
  },
  {
   "cell_type": "code",
   "execution_count": 22,
   "metadata": {},
   "outputs": [
    {
     "data": {
      "text/html": [
       "<div>\n",
       "<style scoped>\n",
       "    .dataframe tbody tr th:only-of-type {\n",
       "        vertical-align: middle;\n",
       "    }\n",
       "\n",
       "    .dataframe tbody tr th {\n",
       "        vertical-align: top;\n",
       "    }\n",
       "\n",
       "    .dataframe thead th {\n",
       "        text-align: right;\n",
       "    }\n",
       "</style>\n",
       "<table border=\"1\" class=\"dataframe\">\n",
       "  <thead>\n",
       "    <tr style=\"text-align: right;\">\n",
       "      <th></th>\n",
       "      <th>Prénom usuel</th>\n",
       "      <th>Nom usuel</th>\n",
       "      <th>Courrier électronique</th>\n",
       "    </tr>\n",
       "  </thead>\n",
       "  <tbody>\n",
       "    <tr>\n",
       "      <th>0</th>\n",
       "      <td>François</td>\n",
       "      <td>Abadie</td>\n",
       "      <td>Non public</td>\n",
       "    </tr>\n",
       "    <tr>\n",
       "      <th>1</th>\n",
       "      <td>Patrick</td>\n",
       "      <td>Abate</td>\n",
       "      <td>p.abate@senat.fr</td>\n",
       "    </tr>\n",
       "    <tr>\n",
       "      <th>3</th>\n",
       "      <td>Nicolas</td>\n",
       "      <td>About</td>\n",
       "      <td>n.about@senat.fr</td>\n",
       "    </tr>\n",
       "    <tr>\n",
       "      <th>6</th>\n",
       "      <td>Philippe</td>\n",
       "      <td>Adnot</td>\n",
       "      <td>p.adnot@senat.fr</td>\n",
       "    </tr>\n",
       "    <tr>\n",
       "      <th>9</th>\n",
       "      <td>Leila</td>\n",
       "      <td>Aïchi</td>\n",
       "      <td>l.aichi@senat.fr</td>\n",
       "    </tr>\n",
       "  </tbody>\n",
       "</table>\n",
       "</div>"
      ],
      "text/plain": [
       "  Prénom usuel Nom usuel Courrier électronique\n",
       "0     François    Abadie            Non public\n",
       "1      Patrick     Abate      p.abate@senat.fr\n",
       "3      Nicolas     About      n.about@senat.fr\n",
       "6     Philippe     Adnot      p.adnot@senat.fr\n",
       "9        Leila     Aïchi      l.aichi@senat.fr"
      ]
     },
     "execution_count": 22,
     "metadata": {},
     "output_type": "execute_result"
    }
   ],
   "source": [
    "df = df[df[\"Courrier électronique\"].notnull()]\n",
    "df.head()"
   ]
  },
  {
   "cell_type": "markdown",
   "metadata": {},
   "source": [
    "On voit que certaines valeurs sont \"Non public\", on peut les filtrer aussi :"
   ]
  },
  {
   "cell_type": "code",
   "execution_count": 23,
   "metadata": {},
   "outputs": [
    {
     "data": {
      "text/html": [
       "<div>\n",
       "<style scoped>\n",
       "    .dataframe tbody tr th:only-of-type {\n",
       "        vertical-align: middle;\n",
       "    }\n",
       "\n",
       "    .dataframe tbody tr th {\n",
       "        vertical-align: top;\n",
       "    }\n",
       "\n",
       "    .dataframe thead th {\n",
       "        text-align: right;\n",
       "    }\n",
       "</style>\n",
       "<table border=\"1\" class=\"dataframe\">\n",
       "  <thead>\n",
       "    <tr style=\"text-align: right;\">\n",
       "      <th></th>\n",
       "      <th>Prénom usuel</th>\n",
       "      <th>Nom usuel</th>\n",
       "      <th>Courrier électronique</th>\n",
       "    </tr>\n",
       "  </thead>\n",
       "  <tbody>\n",
       "    <tr>\n",
       "      <th>1</th>\n",
       "      <td>Patrick</td>\n",
       "      <td>Abate</td>\n",
       "      <td>p.abate@senat.fr</td>\n",
       "    </tr>\n",
       "    <tr>\n",
       "      <th>3</th>\n",
       "      <td>Nicolas</td>\n",
       "      <td>About</td>\n",
       "      <td>n.about@senat.fr</td>\n",
       "    </tr>\n",
       "    <tr>\n",
       "      <th>6</th>\n",
       "      <td>Philippe</td>\n",
       "      <td>Adnot</td>\n",
       "      <td>p.adnot@senat.fr</td>\n",
       "    </tr>\n",
       "    <tr>\n",
       "      <th>9</th>\n",
       "      <td>Leila</td>\n",
       "      <td>Aïchi</td>\n",
       "      <td>l.aichi@senat.fr</td>\n",
       "    </tr>\n",
       "    <tr>\n",
       "      <th>12</th>\n",
       "      <td>Jean-Paul</td>\n",
       "      <td>Alduy</td>\n",
       "      <td>jp.alduy@senat.fr</td>\n",
       "    </tr>\n",
       "    <tr>\n",
       "      <th>17</th>\n",
       "      <td>Pascal</td>\n",
       "      <td>Allizard</td>\n",
       "      <td>p.allizard@senat.fr</td>\n",
       "    </tr>\n",
       "    <tr>\n",
       "      <th>20</th>\n",
       "      <td>Jacqueline</td>\n",
       "      <td>Alquier</td>\n",
       "      <td>j.alquier@senat.fr</td>\n",
       "    </tr>\n",
       "    <tr>\n",
       "      <th>25</th>\n",
       "      <td>Michel</td>\n",
       "      <td>Amiel</td>\n",
       "      <td>m.amiel@senat.fr</td>\n",
       "    </tr>\n",
       "    <tr>\n",
       "      <th>26</th>\n",
       "      <td>Jean-Paul</td>\n",
       "      <td>Amoudry</td>\n",
       "      <td>jp.amoudry@senat.fr</td>\n",
       "    </tr>\n",
       "    <tr>\n",
       "      <th>28</th>\n",
       "      <td>Michèle</td>\n",
       "      <td>André</td>\n",
       "      <td>m.andre@senat.fr</td>\n",
       "    </tr>\n",
       "    <tr>\n",
       "      <th>29</th>\n",
       "      <td>Pierre</td>\n",
       "      <td>André</td>\n",
       "      <td>p.andre@senat.fr</td>\n",
       "    </tr>\n",
       "    <tr>\n",
       "      <th>30</th>\n",
       "      <td>Serge</td>\n",
       "      <td>Andreoni</td>\n",
       "      <td>s.andreoni@senat.fr</td>\n",
       "    </tr>\n",
       "    <tr>\n",
       "      <th>32</th>\n",
       "      <td>Bernard</td>\n",
       "      <td>Angels</td>\n",
       "      <td>b.angels@senat.fr</td>\n",
       "    </tr>\n",
       "    <tr>\n",
       "      <th>34</th>\n",
       "      <td>Kalliopi</td>\n",
       "      <td>Ango Ela</td>\n",
       "      <td>k.ango-ela@senat.fr</td>\n",
       "    </tr>\n",
       "    <tr>\n",
       "      <th>35</th>\n",
       "      <td>Maurice</td>\n",
       "      <td>Antiste</td>\n",
       "      <td>m.antiste@senat.fr</td>\n",
       "    </tr>\n",
       "    <tr>\n",
       "      <th>36</th>\n",
       "      <td>Jean-Étienne</td>\n",
       "      <td>Antoinette</td>\n",
       "      <td>je.antoinette@senat.fr</td>\n",
       "    </tr>\n",
       "    <tr>\n",
       "      <th>37</th>\n",
       "      <td>Alain</td>\n",
       "      <td>Anziani</td>\n",
       "      <td>a.anziani@senat.fr</td>\n",
       "    </tr>\n",
       "    <tr>\n",
       "      <th>39</th>\n",
       "      <td>Aline</td>\n",
       "      <td>Archimbaud</td>\n",
       "      <td>a.archimbaud@senat.fr</td>\n",
       "    </tr>\n",
       "    <tr>\n",
       "      <th>41</th>\n",
       "      <td>Philippe</td>\n",
       "      <td>Arnaud</td>\n",
       "      <td>p.arnaud@senat.fr</td>\n",
       "    </tr>\n",
       "    <tr>\n",
       "      <th>42</th>\n",
       "      <td>Guillaume</td>\n",
       "      <td>Arnell</td>\n",
       "      <td>g.arnell@senat.fr</td>\n",
       "    </tr>\n",
       "    <tr>\n",
       "      <th>44</th>\n",
       "      <td>Stéphane</td>\n",
       "      <td>Artano</td>\n",
       "      <td>s.artano@senat.fr</td>\n",
       "    </tr>\n",
       "    <tr>\n",
       "      <th>45</th>\n",
       "      <td>Jean</td>\n",
       "      <td>Arthuis</td>\n",
       "      <td>j.arthuis@senat.fr</td>\n",
       "    </tr>\n",
       "    <tr>\n",
       "      <th>46</th>\n",
       "      <td>Viviane</td>\n",
       "      <td>Artigalas</td>\n",
       "      <td>v.artigalas@senat.fr</td>\n",
       "    </tr>\n",
       "    <tr>\n",
       "      <th>48</th>\n",
       "      <td>Éliane</td>\n",
       "      <td>Assassi</td>\n",
       "      <td>e.assassi@senat.fr</td>\n",
       "    </tr>\n",
       "    <tr>\n",
       "      <th>49</th>\n",
       "      <td>David</td>\n",
       "      <td>Assouline</td>\n",
       "      <td>d.assouline@senat.fr</td>\n",
       "    </tr>\n",
       "    <tr>\n",
       "      <th>50</th>\n",
       "      <td>Bertrand</td>\n",
       "      <td>Auban</td>\n",
       "      <td>b.auban@senat.fr</td>\n",
       "    </tr>\n",
       "    <tr>\n",
       "      <th>53</th>\n",
       "      <td>François</td>\n",
       "      <td>Aubey</td>\n",
       "      <td>f.aubey@senat.fr</td>\n",
       "    </tr>\n",
       "    <tr>\n",
       "      <th>58</th>\n",
       "      <td>François</td>\n",
       "      <td>Autain</td>\n",
       "      <td>f.autain@senat.fr</td>\n",
       "    </tr>\n",
       "    <tr>\n",
       "      <th>61</th>\n",
       "      <td>Serge</td>\n",
       "      <td>Babary</td>\n",
       "      <td>s.babary@senat.fr</td>\n",
       "    </tr>\n",
       "    <tr>\n",
       "      <th>63</th>\n",
       "      <td>Robert</td>\n",
       "      <td>Badinter</td>\n",
       "      <td>r.badinter@senat.fr</td>\n",
       "    </tr>\n",
       "    <tr>\n",
       "      <th>...</th>\n",
       "      <td>...</td>\n",
       "      <td>...</td>\n",
       "      <td>...</td>\n",
       "    </tr>\n",
       "    <tr>\n",
       "      <th>1671</th>\n",
       "      <td>Raymond</td>\n",
       "      <td>Vall</td>\n",
       "      <td>r.vall@senat.fr</td>\n",
       "    </tr>\n",
       "    <tr>\n",
       "      <th>1672</th>\n",
       "      <td>André</td>\n",
       "      <td>Vallet</td>\n",
       "      <td>a.vallet@senat.fr</td>\n",
       "    </tr>\n",
       "    <tr>\n",
       "      <th>1674</th>\n",
       "      <td>André</td>\n",
       "      <td>Vallini</td>\n",
       "      <td>a.vallini@senat.fr</td>\n",
       "    </tr>\n",
       "    <tr>\n",
       "      <th>1676</th>\n",
       "      <td>Sabine</td>\n",
       "      <td>Van Heghe</td>\n",
       "      <td>s.van-heghe@senat.fr</td>\n",
       "    </tr>\n",
       "    <tr>\n",
       "      <th>1677</th>\n",
       "      <td>René</td>\n",
       "      <td>Vandierendonck</td>\n",
       "      <td>r.vandierendonck@senat.fr</td>\n",
       "    </tr>\n",
       "    <tr>\n",
       "      <th>1678</th>\n",
       "      <td>Jean-Marie</td>\n",
       "      <td>Vanlerenberghe</td>\n",
       "      <td>jm.vanlerenberghe@senat.fr</td>\n",
       "    </tr>\n",
       "    <tr>\n",
       "      <th>1680</th>\n",
       "      <td>André</td>\n",
       "      <td>Vantomme</td>\n",
       "      <td>senateur.vantomme@wanadoo.fr</td>\n",
       "    </tr>\n",
       "    <tr>\n",
       "      <th>1682</th>\n",
       "      <td>Michel</td>\n",
       "      <td>Vaspart</td>\n",
       "      <td>m.vaspart@senat.fr</td>\n",
       "    </tr>\n",
       "    <tr>\n",
       "      <th>1683</th>\n",
       "      <td>Alain</td>\n",
       "      <td>Vasselle</td>\n",
       "      <td>a.vasselle@senat.fr</td>\n",
       "    </tr>\n",
       "    <tr>\n",
       "      <th>1685</th>\n",
       "      <td>Yannick</td>\n",
       "      <td>Vaugrenard</td>\n",
       "      <td>y.vaugrenard@senat.fr</td>\n",
       "    </tr>\n",
       "    <tr>\n",
       "      <th>1689</th>\n",
       "      <td>Bernard</td>\n",
       "      <td>Vera</td>\n",
       "      <td>b.vera@senat.fr</td>\n",
       "    </tr>\n",
       "    <tr>\n",
       "      <th>1692</th>\n",
       "      <td>Michel</td>\n",
       "      <td>Vergoz</td>\n",
       "      <td>m.vergoz@senat.fr</td>\n",
       "    </tr>\n",
       "    <tr>\n",
       "      <th>1693</th>\n",
       "      <td>Dominique</td>\n",
       "      <td>Vérien</td>\n",
       "      <td>d.verien@senat.fr</td>\n",
       "    </tr>\n",
       "    <tr>\n",
       "      <th>1695</th>\n",
       "      <td>Sylvie</td>\n",
       "      <td>Vermeillet</td>\n",
       "      <td>s.vermeillet@senat.fr</td>\n",
       "    </tr>\n",
       "    <tr>\n",
       "      <th>1697</th>\n",
       "      <td>René</td>\n",
       "      <td>Vestri</td>\n",
       "      <td>r.vestri@senat.fr</td>\n",
       "    </tr>\n",
       "    <tr>\n",
       "      <th>1698</th>\n",
       "      <td>André</td>\n",
       "      <td>Vézinhet</td>\n",
       "      <td>andre.vezinhet@wanadoo.fr</td>\n",
       "    </tr>\n",
       "    <tr>\n",
       "      <th>1699</th>\n",
       "      <td>Jean-Pierre</td>\n",
       "      <td>Vial</td>\n",
       "      <td>jp.vial@senat.fr</td>\n",
       "    </tr>\n",
       "    <tr>\n",
       "      <th>1701</th>\n",
       "      <td>Marcel</td>\n",
       "      <td>Vidal</td>\n",
       "      <td>m.vidal@senat.fr</td>\n",
       "    </tr>\n",
       "    <tr>\n",
       "      <th>1708</th>\n",
       "      <td>Maurice</td>\n",
       "      <td>Vincent</td>\n",
       "      <td>m.vincent@senat.fr</td>\n",
       "    </tr>\n",
       "    <tr>\n",
       "      <th>1709</th>\n",
       "      <td>Serge</td>\n",
       "      <td>Vinçon</td>\n",
       "      <td>s.vincon@senat.fr</td>\n",
       "    </tr>\n",
       "    <tr>\n",
       "      <th>1711</th>\n",
       "      <td>Jean-Paul</td>\n",
       "      <td>Virapoullé</td>\n",
       "      <td>jp.virapoulle@senat.fr</td>\n",
       "    </tr>\n",
       "    <tr>\n",
       "      <th>1716</th>\n",
       "      <td>Jean Pierre</td>\n",
       "      <td>Vogel</td>\n",
       "      <td>jp.vogel@senat.fr</td>\n",
       "    </tr>\n",
       "    <tr>\n",
       "      <th>1717</th>\n",
       "      <td>Jean-François</td>\n",
       "      <td>Voguet</td>\n",
       "      <td>jf.voguet@senat.fr</td>\n",
       "    </tr>\n",
       "    <tr>\n",
       "      <th>1721</th>\n",
       "      <td>Dominique</td>\n",
       "      <td>Voynet</td>\n",
       "      <td>d.voynet@senat.fr</td>\n",
       "    </tr>\n",
       "    <tr>\n",
       "      <th>1722</th>\n",
       "      <td>Michèle</td>\n",
       "      <td>Vullien</td>\n",
       "      <td>m.vullien@senat.fr</td>\n",
       "    </tr>\n",
       "    <tr>\n",
       "      <th>1726</th>\n",
       "      <td>Dominique</td>\n",
       "      <td>Watrin</td>\n",
       "      <td>d.watrin@senat.fr</td>\n",
       "    </tr>\n",
       "    <tr>\n",
       "      <th>1727</th>\n",
       "      <td>Dany</td>\n",
       "      <td>Wattebled</td>\n",
       "      <td>d.wattebled@senat.fr</td>\n",
       "    </tr>\n",
       "    <tr>\n",
       "      <th>1731</th>\n",
       "      <td>Évelyne</td>\n",
       "      <td>Yonnet</td>\n",
       "      <td>e.yonnet@senat.fr</td>\n",
       "    </tr>\n",
       "    <tr>\n",
       "      <th>1732</th>\n",
       "      <td>Richard</td>\n",
       "      <td>Yung</td>\n",
       "      <td>r.yung@senat.fr</td>\n",
       "    </tr>\n",
       "    <tr>\n",
       "      <th>1735</th>\n",
       "      <td>François</td>\n",
       "      <td>Zocchetto</td>\n",
       "      <td>f.zocchetto@senat.fr</td>\n",
       "    </tr>\n",
       "  </tbody>\n",
       "</table>\n",
       "<p>709 rows × 3 columns</p>\n",
       "</div>"
      ],
      "text/plain": [
       "       Prénom usuel       Nom usuel         Courrier électronique\n",
       "1           Patrick           Abate              p.abate@senat.fr\n",
       "3           Nicolas           About              n.about@senat.fr\n",
       "6          Philippe           Adnot              p.adnot@senat.fr\n",
       "9             Leila           Aïchi              l.aichi@senat.fr\n",
       "12        Jean-Paul           Alduy             jp.alduy@senat.fr\n",
       "17           Pascal        Allizard           p.allizard@senat.fr\n",
       "20       Jacqueline         Alquier            j.alquier@senat.fr\n",
       "25           Michel           Amiel              m.amiel@senat.fr\n",
       "26        Jean-Paul         Amoudry           jp.amoudry@senat.fr\n",
       "28          Michèle           André              m.andre@senat.fr\n",
       "29           Pierre           André              p.andre@senat.fr\n",
       "30            Serge        Andreoni           s.andreoni@senat.fr\n",
       "32          Bernard          Angels             b.angels@senat.fr\n",
       "34         Kalliopi        Ango Ela           k.ango-ela@senat.fr\n",
       "35          Maurice         Antiste            m.antiste@senat.fr\n",
       "36     Jean-Étienne      Antoinette        je.antoinette@senat.fr\n",
       "37            Alain         Anziani            a.anziani@senat.fr\n",
       "39            Aline      Archimbaud         a.archimbaud@senat.fr\n",
       "41         Philippe          Arnaud             p.arnaud@senat.fr\n",
       "42        Guillaume          Arnell             g.arnell@senat.fr\n",
       "44         Stéphane          Artano             s.artano@senat.fr\n",
       "45             Jean         Arthuis            j.arthuis@senat.fr\n",
       "46          Viviane       Artigalas          v.artigalas@senat.fr\n",
       "48           Éliane         Assassi            e.assassi@senat.fr\n",
       "49            David       Assouline          d.assouline@senat.fr\n",
       "50         Bertrand           Auban              b.auban@senat.fr\n",
       "53         François           Aubey              f.aubey@senat.fr\n",
       "58         François          Autain             f.autain@senat.fr\n",
       "61            Serge          Babary             s.babary@senat.fr\n",
       "63           Robert        Badinter           r.badinter@senat.fr\n",
       "...             ...             ...                           ...\n",
       "1671        Raymond            Vall               r.vall@senat.fr\n",
       "1672          André          Vallet             a.vallet@senat.fr\n",
       "1674          André         Vallini            a.vallini@senat.fr\n",
       "1676         Sabine       Van Heghe          s.van-heghe@senat.fr\n",
       "1677           René  Vandierendonck     r.vandierendonck@senat.fr\n",
       "1678     Jean-Marie  Vanlerenberghe    jm.vanlerenberghe@senat.fr\n",
       "1680          André        Vantomme  senateur.vantomme@wanadoo.fr\n",
       "1682         Michel         Vaspart            m.vaspart@senat.fr\n",
       "1683          Alain        Vasselle           a.vasselle@senat.fr\n",
       "1685        Yannick      Vaugrenard         y.vaugrenard@senat.fr\n",
       "1689        Bernard            Vera               b.vera@senat.fr\n",
       "1692         Michel          Vergoz             m.vergoz@senat.fr\n",
       "1693      Dominique          Vérien             d.verien@senat.fr\n",
       "1695         Sylvie      Vermeillet         s.vermeillet@senat.fr\n",
       "1697           René          Vestri             r.vestri@senat.fr\n",
       "1698          André        Vézinhet     andre.vezinhet@wanadoo.fr\n",
       "1699    Jean-Pierre            Vial              jp.vial@senat.fr\n",
       "1701         Marcel           Vidal              m.vidal@senat.fr\n",
       "1708        Maurice         Vincent            m.vincent@senat.fr\n",
       "1709          Serge          Vinçon             s.vincon@senat.fr\n",
       "1711      Jean-Paul      Virapoullé        jp.virapoulle@senat.fr\n",
       "1716    Jean Pierre           Vogel             jp.vogel@senat.fr\n",
       "1717  Jean-François          Voguet            jf.voguet@senat.fr\n",
       "1721      Dominique          Voynet             d.voynet@senat.fr\n",
       "1722        Michèle         Vullien            m.vullien@senat.fr\n",
       "1726      Dominique          Watrin             d.watrin@senat.fr\n",
       "1727           Dany       Wattebled          d.wattebled@senat.fr\n",
       "1731        Évelyne          Yonnet             e.yonnet@senat.fr\n",
       "1732        Richard            Yung               r.yung@senat.fr\n",
       "1735       François       Zocchetto          f.zocchetto@senat.fr\n",
       "\n",
       "[709 rows x 3 columns]"
      ]
     },
     "execution_count": 23,
     "metadata": {},
     "output_type": "execute_result"
    }
   ],
   "source": [
    "df = df[df[\"Courrier électronique\"] != \"Non public\"]\n",
    "df"
   ]
  },
  {
   "cell_type": "markdown",
   "metadata": {},
   "source": [
    "Lorsque l'on crée un _pipeline_ de traitement de données, il peut être utile de vérifier que les données sont cohérentes (taille, format, valeurs...)."
   ]
  },
  {
   "cell_type": "markdown",
   "metadata": {},
   "source": [
    "Pour cela, on peut utiliser la bibliothèque [engarde](https://github.com/TomAugspurger/engarde)."
   ]
  }
 ],
 "metadata": {
  "kernelspec": {
   "display_name": "Python 3",
   "language": "python",
   "name": "python3"
  },
  "language_info": {
   "codemirror_mode": {
    "name": "ipython",
    "version": 3
   },
   "file_extension": ".py",
   "mimetype": "text/x-python",
   "name": "python",
   "nbconvert_exporter": "python",
   "pygments_lexer": "ipython3",
   "version": "3.6.6"
  }
 },
 "nbformat": 4,
 "nbformat_minor": 2
}
