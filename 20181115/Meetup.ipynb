{
 "cells": [
  {
   "cell_type": "markdown",
   "metadata": {},
   "source": [
    "# Meetup Python Amiens #6 – Jeudi 15 novembre 2018"
   ]
  },
  {
   "cell_type": "markdown",
   "metadata": {},
   "source": [
    "## Agenda\n",
    "- tour de table\n",
    "- annonces et présentations courtes\n",
    "- activité(s)"
   ]
  },
  {
   "cell_type": "markdown",
   "metadata": {},
   "source": [
    "## Annonces et présentations courtes\n",
    "\n",
    "- **PyParis 2018** (Ronan)\n",
    "    - hier et aujourd'hui : http://pyparis.org\n",
    "- **Dataclasses** (Jérôme)\n",
    "    - en standard à partir de Python 3.7 : https://docs.python.org/3/library/dataclasses.html\n",
    "    - en option pour Python 3.6 : https://pypi.org/project/dataclasses/\n",
    "    - inspiré du projet `attrs` : https://pypi.org/project/attrs/"
   ]
  },
  {
   "cell_type": "markdown",
   "metadata": {},
   "source": [
    "## Activités\n",
    "\n",
    "- comment vérifier les types à l'exécution ? (7)\n",
    "    - voir le notebook [Vérification dynamique des types](./Vérification%20dynamique%20des%20types.ipynb)\n",
    "- comment trouver des idées de projets / exercices pour apprendre Python ? (5)\n",
    "    - [CodinGame](https://www.codingame.com/)\n",
    "    - [Codecademy](https://www.codecademy.com/catalog/language/python)\n",
    "    - [SoloLearn](https://www.sololearn.com/)\n",
    "    - [Project Euler](https://projecteuler.net/)\n",
    "- comment créer une interface graphique en Python ? (4)"
   ]
  }
 ],
 "metadata": {
  "kernelspec": {
   "display_name": "Python 3",
   "language": "python",
   "name": "python3"
  },
  "language_info": {
   "codemirror_mode": {
    "name": "ipython",
    "version": 3
   },
   "file_extension": ".py",
   "mimetype": "text/x-python",
   "name": "python",
   "nbconvert_exporter": "python",
   "pygments_lexer": "ipython3",
   "version": "3.6.6"
  }
 },
 "nbformat": 4,
 "nbformat_minor": 2
}
