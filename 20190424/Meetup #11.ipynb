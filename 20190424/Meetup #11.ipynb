{
 "cells": [
  {
   "cell_type": "markdown",
   "metadata": {},
   "source": [
    "# Meetup #11\n",
    "\n",
    "## Agenda\n",
    "\n",
    "* Tour de table\n",
    "* Présentations courtes\n",
    "* Activités\n",
    "\n",
    "## Présentation courtes\n",
    "\n",
    "* [tqdm](https://pypi.org/project/tqdm/)\n",
    "* [argparse.ArgumentDefaultsHelpFormatter](https://docs.python.org/3.5/library/argparse.html#argparse.ArgumentDefaultsHelpFormatter)\n",
    "* [docopt](https://pypi.org/project/docopt/)\n",
    "* [ishell](https://github.com/italorossi/ishell)\n",
    "\n",
    "## Activités\n",
    "\n",
    "* On fait le kata [Gilded Rose](http://codingdojo.org/kata/GildedRose/)"
   ]
  }
 ],
 "metadata": {
  "kernelspec": {
   "display_name": "Python 3",
   "language": "python",
   "name": "python3"
  },
  "language_info": {
   "codemirror_mode": {
    "name": "ipython",
    "version": 3
   },
   "file_extension": ".py",
   "mimetype": "text/x-python",
   "name": "python",
   "nbconvert_exporter": "python",
   "pygments_lexer": "ipython3",
   "version": "3.6.6"
  }
 },
 "nbformat": 4,
 "nbformat_minor": 2
}
