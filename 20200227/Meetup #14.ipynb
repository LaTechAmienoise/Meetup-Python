{
 "cells": [
  {
   "cell_type": "markdown",
   "metadata": {},
   "source": [
    "# Meetup #14 – Jeudi 27 février 2020\n",
    "\n",
    "## Agenda\n",
    "\n",
    "- tour de table\n",
    "- présentations courtes\n",
    "- activités\n",
    "\n",
    "## Présentations\n",
    "\n",
    "- Christophe : Python et cartographie, épisode 2\n",
    "\n",
    "## Activités\n",
    "\n",
    "- apprendre à faire une bibliothèque, notamment packaging et logging (5)\n",
    "- advent of code (7)\n",
    "- exercice de remaniement de code (kata refactoring) (6)\n",
    "- git et compagnie (bonus)"
   ]
  },
  {
   "cell_type": "code",
   "execution_count": null,
   "metadata": {},
   "outputs": [],
   "source": []
  }
 ],
 "metadata": {
  "kernelspec": {
   "display_name": "Python 3",
   "language": "python",
   "name": "python3"
  },
  "language_info": {
   "codemirror_mode": {
    "name": "ipython",
    "version": 3
   },
   "file_extension": ".py",
   "mimetype": "text/x-python",
   "name": "python",
   "nbconvert_exporter": "python",
   "pygments_lexer": "ipython3",
   "version": "3.6.6"
  }
 },
 "nbformat": 4,
 "nbformat_minor": 2
}
